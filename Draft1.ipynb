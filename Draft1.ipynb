{
 "cells": [
  {
   "cell_type": "code",
   "execution_count": 1,
   "metadata": {},
   "outputs": [],
   "source": [
    "#Connect to GIS\n",
    "from arcgis.gis import GIS\n",
    "gis = GIS(\"home\")"
   ]
  },
  {
   "cell_type": "code",
   "execution_count": 2,
   "metadata": {},
   "outputs": [],
   "source": [
    "import requests\n",
    "import pandas as pd\n",
    "import zipfile\n",
    "import os\n",
    "import io\n",
    "import arcpy\n",
    "from arcgis import features, GeoAccessor, GeoSeriesAccessor\n",
    "from arcgis.gis import GIS\n",
    "from arcgis.features.analysis import join_features\n",
    "from arcgis.features import FeatureLayerCollection, FeatureLayer\n",
    "from arcgis.geometry import SpatialReference , Geometry\n",
    "import json"
   ]
  },
  {
   "cell_type": "code",
   "execution_count": 3,
   "metadata": {},
   "outputs": [],
   "source": [
    "directory= 'C:\\Mac\\Home\\Documents\\GIS5571_FinalProjectData'\n",
    "output_gdb = r\"C:\\Mac\\Home\\Documents\\ArcGIS\\Projects\\GIS5571Final_Project\\MyProject2\\MyProject2.gdb\" \n",
    "\n",
    "#Get TIGER gdb\n",
    "url= r'https://www2.census.gov/geo/tiger/TGRGDB24/tlgdb_2024_a_19_ia.gdb.zip'\n",
    "request= requests.get(url)\n",
    "with open('C:\\Mac\\Home\\Documents\\GIS5571_FinalProjectData\\tlgdb_2024_a_19_ia.gdb.zip', 'wb') as file:\n",
    "    file.write(request.content)\n",
    "    \n",
    "#unzip\n",
    "zip_path ='C:\\Mac\\Home\\Documents\\GIS5571_FinalProjectData\\tlgdb_2024_a_19_ia.gdb.zip'\n",
    "with zipfile.ZipFile(zip_path, 'r') as zip_ref:\n",
    "    zip_ref.extractall(directory)"
   ]
  },
  {
   "cell_type": "code",
   "execution_count": 4,
   "metadata": {},
   "outputs": [
    {
     "data": {
      "text/html": [
       "<div class='gpresult'><h2>Messages</h2><div id='messages'>Start Time: Thursday, October 31, 2024 9:21:21 AM<br>Succeeded at Thursday, October 31, 2024 9:21:27 AM (Elapsed Time: 6.00 seconds)<br></div><div id = 'default' /></div></div>"
      ],
      "text/plain": [
       "<Result 'C:\\\\Mac\\\\Home\\\\Documents\\\\ArcGIS\\\\Projects\\\\GIS5571Final_Project\\\\MyProject2\\\\MyProject2.gdb\\\\county_boundaries'>"
      ]
     },
     "execution_count": 4,
     "metadata": {},
     "output_type": "execute_result"
    }
   ],
   "source": [
    "county= r'C:\\Mac\\Home\\Documents\\GIS5571_FinalProjectData\\tlgdb_2024_a_19_ia.gdb\\County'\n",
    "arcpy.conversion.FeatureClassToFeatureClass(county, output_gdb, 'county_boundaries')"
   ]
  },
  {
   "cell_type": "code",
   "execution_count": 5,
   "metadata": {},
   "outputs": [
    {
     "data": {
      "text/plain": [
       "'C:\\\\Mac\\\\Home\\\\Documents\\\\ArcGIS\\\\Projects\\\\GIS5571Final_Project\\\\MyProject2\\\\MyProject2.gdb\\\\Utility'"
      ]
     },
     "execution_count": 5,
     "metadata": {},
     "output_type": "execute_result"
    }
   ],
   "source": [
    "esb_fl = FeatureLayer(\"https://services.arcgis.com/vPD5PVLI6sfkZ5E4/ArcGIS/rest/services/Electrical_Service_Boundaries/FeatureServer/14\")\n",
    "sedf= pd.DataFrame.spatial.from_layer(esb_fl)\n",
    "\n",
    "out_name = \"Utility\"\n",
    "sedf.spatial.to_featureclass(location=f\"{output_gdb}/{out_name}\")"
   ]
  },
  {
   "cell_type": "code",
   "execution_count": 6,
   "metadata": {},
   "outputs": [
    {
     "data": {
      "text/plain": [
       "'C:\\\\Mac\\\\Home\\\\Documents\\\\ArcGIS\\\\Projects\\\\GIS5571Final_Project\\\\MyProject2\\\\MyProject2.gdb\\\\EC2024_all'"
      ]
     },
     "execution_count": 6,
     "metadata": {},
     "output_type": "execute_result"
    }
   ],
   "source": [
    "ec_fl = FeatureLayer(\"https://arcgis.netl.doe.gov/server/rest/services/Hosted/2024_Coal_Closure_Energy_Communities/FeatureServer/0\")\n",
    "ecsedf= pd.DataFrame.spatial.from_layer(ec_fl)\n",
    "\n",
    "out_name = \"EC2024_all\"\n",
    "ecsedf.spatial.to_featureclass(location=f\"{output_gdb}/{out_name}\")"
   ]
  },
  {
   "cell_type": "code",
   "execution_count": 7,
   "metadata": {},
   "outputs": [],
   "source": [
    "utility= arcpy.management.SelectLayerByAttribute(\n",
    "    in_layer_or_view=\"Utility\",\n",
    "    selection_type=\"NEW_SELECTION\",\n",
    "    where_clause=\"Owner = 'MidAmerican Energy' Or Owner = 'Interstate Power and Light Company'\",\n",
    "    invert_where_clause=None\n",
    ")"
   ]
  },
  {
   "cell_type": "code",
   "execution_count": 8,
   "metadata": {},
   "outputs": [
    {
     "data": {
      "text/html": [
       "<div class='gpresult'><h2>Messages</h2><div id='messages'>Start Time: Thursday, October 31, 2024 9:25:53 AM<br>Succeeded at Thursday, October 31, 2024 9:25:58 AM (Elapsed Time: 4.42 seconds)<br></div><div id = 'default' /></div></div>"
      ],
      "text/plain": [
       "<Result 'C:\\\\Mac\\\\Home\\\\Documents\\\\ArcGIS\\\\Projects\\\\GIS5571Final_Project\\\\MyProject2\\\\MyProject2.gdb\\\\IOUUtility'>"
      ]
     },
     "execution_count": 8,
     "metadata": {},
     "output_type": "execute_result"
    }
   ],
   "source": [
    "output_fc = os.path.join(output_gdb, \"IOUUtility\")\n",
    "arcpy.CopyFeatures_management(utility, output_fc)"
   ]
  },
  {
   "cell_type": "code",
   "execution_count": 9,
   "metadata": {},
   "outputs": [
    {
     "data": {
      "text/html": [
       "<div class='gpresult'><h2>Messages</h2><div id='messages'>Start Time: Thursday, October 31, 2024 9:26:28 AM<br>Reading Features...<br>Cracking Features...<br>Assembling Features...<br>Succeeded at Thursday, October 31, 2024 9:26:36 AM (Elapsed Time: 7.23 seconds)<br></div><div id = 'default' /></div></div>"
      ],
      "text/plain": [
       "<Result 'C:\\\\Mac\\\\Home\\\\Documents\\\\ArcGIS\\\\Projects\\\\GIS5571Final_Project\\\\MyProject2\\\\MyProject2.gdb\\\\Utility_AHJ'>"
      ]
     },
     "execution_count": 9,
     "metadata": {},
     "output_type": "execute_result"
    }
   ],
   "source": [
    "arcpy.analysis.Intersect(\n",
    "    in_features=\"IOUUtility #;county_boundaries #\",\n",
    "    out_feature_class=r\"C:\\Mac\\Home\\Documents\\ArcGIS\\Projects\\GIS5571Final_Project\\MyProject2\\MyProject2.gdb\\Utility_AHJ\",\n",
    "    join_attributes=\"ALL\",\n",
    "    cluster_tolerance=None,\n",
    "    output_type=\"INPUT\"\n",
    ")"
   ]
  },
  {
   "cell_type": "code",
   "execution_count": 13,
   "metadata": {},
   "outputs": [],
   "source": [
    "# Definition Query for EC: State= IA\n",
    "aprx = arcpy.mp.ArcGISProject(\"CURRENT\")\n",
    "map_obj = aprx.listMaps(\"Map\")[0] \n",
    "layer = map_obj.listLayers(\"EC2024_All\")[0]\n",
    "layer.definitionQuery = \"state_name = 'Iowa'\"  "
   ]
  },
  {
   "cell_type": "code",
   "execution_count": 1,
   "metadata": {},
   "outputs": [
    {
     "data": {
      "text/html": [
       "<div class='gpresult'><h2>Messages</h2><div id='messages'>Start Time: Tuesday, October 29, 2024 4:15:11 PM<br>Converted C:\\\\Mac\\\\Home\\\\Documents\\\\GIS5571_FinalProjectData\\\\IowaSiteAnalytics.csv to C:\\\\Mac\\\\Home\\\\Documents\\\\ArcGIS\\\\Projects\\\\GIS5571Final_Project\\\\MyProject2\\\\MyProject2.gdb\\\\IowaSiteAnalytics successfully.<br>Succeeded at Tuesday, October 29, 2024 4:15:15 PM (Elapsed Time: 3.29 seconds)<br></div><div id = 'default' /></div></div>"
      ],
      "text/plain": [
       "<Result 'C:\\\\Mac\\\\Home\\\\Documents\\\\ArcGIS\\\\Projects\\\\GIS5571Final_Project\\\\MyProject2\\\\MyProject2.gdb'>"
      ]
     },
     "execution_count": 1,
     "metadata": {},
     "output_type": "execute_result"
    }
   ],
   "source": [
    "arcpy.conversion.TableToGeodatabase(\n",
    "    Input_Table=r\"C:\\Mac\\Home\\Documents\\GIS5571_FinalProjectData\\IowaSiteAnalytics.csv\",\n",
    "    Output_Geodatabase=r\"C:\\Mac\\Home\\Documents\\ArcGIS\\Projects\\GIS5571Final_Project\\MyProject2\\MyProject2.gdb\"\n",
    ")"
   ]
  },
  {
   "cell_type": "code",
   "execution_count": null,
   "metadata": {},
   "outputs": [],
   "source": []
  }
 ],
 "metadata": {
  "kernelspec": {
   "display_name": "ArcGISPro",
   "language": "Python",
   "name": "python3"
  },
  "language_info": {
   "file_extension": ".py",
   "name": "python",
   "version": "3"
  }
 },
 "nbformat": 4,
 "nbformat_minor": 2
}
