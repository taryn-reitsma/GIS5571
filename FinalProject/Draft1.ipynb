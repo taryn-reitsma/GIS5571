{
 "cells": [
  {
   "cell_type": "code",
   "execution_count": 1,
   "metadata": {},
   "outputs": [],
   "source": [
    "#Connect to GIS\n",
    "from arcgis.gis import GIS\n",
    "gis = GIS(\"home\")"
   ]
  },
  {
   "cell_type": "code",
   "execution_count": 2,
   "metadata": {},
   "outputs": [],
   "source": [
    "import requests\n",
    "import pandas as pd\n",
    "import zipfile\n",
    "import os\n",
    "import io\n",
    "import arcpy\n",
    "from arcgis import features, GeoAccessor, GeoSeriesAccessor\n",
    "from arcgis.gis import GIS\n",
    "from arcgis.features.analysis import join_features\n",
    "from arcgis.features import FeatureLayerCollection\n",
    "from arcgis.geometry import SpatialReference , Geometry\n",
    "import json"
   ]
  },
  {
   "cell_type": "code",
   "execution_count": 3,
   "metadata": {},
   "outputs": [],
   "source": [
    "directory= 'C:\\Mac\\Home\\Documents\\GIS5571_FinalProjectData'\n",
    "output_gdb = r\"C:\\Mac\\Home\\Documents\\ArcGIS\\Projects\\GIS5571Final_Project\\MyProject2\\MyProject2.gdb\" \n",
    "\n",
    "#Get TIGER gdb\n",
    "url= r'https://www2.census.gov/geo/tiger/TGRGDB24/tlgdb_2024_a_19_ia.gdb.zip'\n",
    "request= requests.get(url)\n",
    "with open('C:\\Mac\\Home\\Documents\\GIS5571_FinalProjectData\\tlgdb_2024_a_19_ia.gdb.zip', 'wb') as file:\n",
    "    file.write(request.content)"
   ]
  },
  {
   "cell_type": "code",
   "execution_count": 4,
   "metadata": {},
   "outputs": [],
   "source": [
    "#unzip\n",
    "zip_path ='C:\\Mac\\Home\\Documents\\GIS5571_FinalProjectData\\tlgdb_2024_a_19_ia.gdb.zip'\n",
    "with zipfile.ZipFile(zip_path, 'r') as zip_ref:\n",
    "    zip_ref.extractall(directory)"
   ]
  },
  {
   "cell_type": "code",
   "execution_count": 5,
   "metadata": {},
   "outputs": [],
   "source": [
    "county= r'C:\\Mac\\Home\\Documents\\GIS5571_FinalProjectData\\tlgdb_2024_a_19_ia.gdb\\County'"
   ]
  },
  {
   "cell_type": "code",
   "execution_count": 6,
   "metadata": {},
   "outputs": [
    {
     "data": {
      "text/html": [
       "<div class='gpresult'><h2>Messages</h2><div id='messages'>Start Time: Tuesday, October 29, 2024 8:34:28 AM<br>Succeeded at Tuesday, October 29, 2024 8:34:39 AM (Elapsed Time: 10.27 seconds)<br></div><div id = 'default' /></div></div>"
      ],
      "text/plain": [
       "<Result 'C:\\\\Mac\\\\Home\\\\Documents\\\\ArcGIS\\\\Projects\\\\GIS5571Final_Project\\\\MyProject2\\\\MyProject2.gdb\\\\county_boundaries'>"
      ]
     },
     "execution_count": 6,
     "metadata": {},
     "output_type": "execute_result"
    }
   ],
   "source": [
    "arcpy.conversion.FeatureClassToFeatureClass(county, output_gdb, 'county_boundaries')"
   ]
  },
  {
   "cell_type": "code",
   "execution_count": 7,
   "metadata": {},
   "outputs": [],
   "source": [
    "output_fc = os.path.join(output_gdb, \"Electrical_Service_Boundaries\")\n",
    "spatial_ref = arcpy.SpatialReference(4269)"
   ]
  },
  {
   "cell_type": "code",
   "execution_count": 8,
   "metadata": {
    "scrolled": true
   },
   "outputs": [
    {
     "data": {
      "text/html": [
       "<div class='gpresult'><h2>Messages</h2><div id='messages'>Start Time: Tuesday, October 29, 2024 8:34:52 AM<br>Adding Owner to Electrical_Service_Boundaries...<br>Succeeded at Tuesday, October 29, 2024 8:34:53 AM (Elapsed Time: 1.26 seconds)<br></div><div id = 'default' /></div></div>"
      ],
      "text/plain": [
       "<Result 'C:\\\\Mac\\\\Home\\\\Documents\\\\ArcGIS\\\\Projects\\\\GIS5571Final_Project\\\\MyProject2\\\\MyProject2.gdb\\\\Electrical_Service_Boundaries'>"
      ]
     },
     "execution_count": 8,
     "metadata": {},
     "output_type": "execute_result"
    }
   ],
   "source": [
    "arcpy.management.CreateFeatureclass(output_gdb, \"Electrical_Service_Boundaries\", \"POLYGON\", spatial_reference=spatial_ref)\n",
    "arcpy.management.AddField(output_fc, \"Owner\", \"TEXT\")"
   ]
  },
  {
   "cell_type": "code",
   "execution_count": 10,
   "metadata": {},
   "outputs": [],
   "source": [
    "esb_url= r\"https://services.arcgis.com/vPD5PVLI6sfkZ5E4/ArcGIS/rest/services/Electrical_Service_Boundaries/FeatureServer/14/query?where=1%3D1&&inSR=26915&f=pgeojson&token=\"\n",
    "esbrequest= requests.get(esb_url)\n",
    "response=esbrequest.json()\n",
    "df=pd.json_normalize(response['features'])"
   ]
  },
  {
   "cell_type": "code",
   "execution_count": 11,
   "metadata": {},
   "outputs": [],
   "source": [
    "#fixing geometry\n",
    "with arcpy.da.InsertCursor(output_fc, ['SHAPE@', 'Owner']) as cursor:\n",
    "    for index, row in df.iterrows():\n",
    "        geom_type = row['geometry.type']\n",
    "        coords = row['geometry.coordinates']\n",
    "        owner = row['properties.Owner']\n",
    "        \n",
    "        if geom_type == 'Polygon':\n",
    "            rings = coords[0]\n",
    "            polygon = arcpy.Polygon(arcpy.Array([arcpy.Point(*pt) for pt in rings]), spatial_ref)\n",
    "            cursor.insertRow([polygon, owner])\n",
    "        \n",
    "        elif geom_type == 'MultiPolygon':\n",
    "            parts = []\n",
    "            for part in coords:\n",
    "                rings = part[0] \n",
    "                parts.append(arcpy.Array([arcpy.Point(*pt) for pt in rings]))\n",
    "            multipolygon = arcpy.Polygon(arcpy.Array(parts), spatial_ref)\n",
    "            cursor.insertRow([multipolygon, owner])"
   ]
  },
  {
   "cell_type": "code",
   "execution_count": 66,
   "metadata": {},
   "outputs": [],
   "source": [
    "url= 'https://arcgis.netl.doe.gov/server/rest/services/Hosted/2024_Coal_Closure_Energy_Communities/FeatureServer/0/query?where=1%3D1+AND+ObjectID%3C2000+AND+ObjectID=2000&inSR=4269&f=geojson'\n",
    "request=requests.get(url)\n",
    "response=request.json()\n",
    "df_first2000=pd.json_normalize(response['features'])"
   ]
  },
  {
   "cell_type": "code",
   "execution_count": 67,
   "metadata": {},
   "outputs": [],
   "source": [
    "url= 'https://arcgis.netl.doe.gov/server/rest/services/Hosted/2024_Coal_Closure_Energy_Communities/FeatureServer/0/query?where=1%3D1+AND+ObjectID>2000&inSR=4269&f=geojson'\n",
    "request=requests.get(url)\n",
    "response=request.json()\n",
    "df_last2000=pd.json_normalize(response['features'])"
   ]
  },
  {
   "cell_type": "code",
   "execution_count": 70,
   "metadata": {},
   "outputs": [
    {
     "data": {
      "text/html": [
       "<div>\n",
       "<style scoped>\n",
       "    .dataframe tbody tr th:only-of-type {\n",
       "        vertical-align: middle;\n",
       "    }\n",
       "\n",
       "    .dataframe tbody tr th {\n",
       "        vertical-align: top;\n",
       "    }\n",
       "\n",
       "    .dataframe thead th {\n",
       "        text-align: right;\n",
       "    }\n",
       "</style>\n",
       "<table border=\"1\" class=\"dataframe\">\n",
       "  <thead>\n",
       "    <tr style=\"text-align: right;\">\n",
       "      <th></th>\n",
       "      <th>type</th>\n",
       "      <th>geometry.type</th>\n",
       "      <th>geometry.coordinates</th>\n",
       "      <th>properties.state_name</th>\n",
       "    </tr>\n",
       "  </thead>\n",
       "  <tbody>\n",
       "    <tr>\n",
       "      <th>0</th>\n",
       "      <td>Feature</td>\n",
       "      <td>Polygon</td>\n",
       "      <td>[[[-80.40321037019542, 39.4375497586401], [-80...</td>\n",
       "      <td>West Virginia</td>\n",
       "    </tr>\n",
       "    <tr>\n",
       "      <th>1</th>\n",
       "      <td>Feature</td>\n",
       "      <td>Polygon</td>\n",
       "      <td>[[[-80.31354933876227, 39.380858751365096], [-...</td>\n",
       "      <td>West Virginia</td>\n",
       "    </tr>\n",
       "    <tr>\n",
       "      <th>2</th>\n",
       "      <td>Feature</td>\n",
       "      <td>Polygon</td>\n",
       "      <td>[[[-80.34251734767977, 39.381494750270846], [-...</td>\n",
       "      <td>West Virginia</td>\n",
       "    </tr>\n",
       "    <tr>\n",
       "      <th>3</th>\n",
       "      <td>Feature</td>\n",
       "      <td>Polygon</td>\n",
       "      <td>[[[-80.7130855524263, 40.62582397306089], [-80...</td>\n",
       "      <td>Ohio</td>\n",
       "    </tr>\n",
       "    <tr>\n",
       "      <th>4</th>\n",
       "      <td>Feature</td>\n",
       "      <td>Polygon</td>\n",
       "      <td>[[[-81.59651377228835, 39.95262780615861], [-8...</td>\n",
       "      <td>Ohio</td>\n",
       "    </tr>\n",
       "  </tbody>\n",
       "</table>\n",
       "</div>"
      ],
      "text/plain": [
       "      type  ... properties.state_name\n",
       "0  Feature  ...         West Virginia\n",
       "1  Feature  ...         West Virginia\n",
       "2  Feature  ...         West Virginia\n",
       "3  Feature  ...                  Ohio\n",
       "4  Feature  ...                  Ohio\n",
       "\n",
       "[5 rows x 4 columns]"
      ]
     },
     "execution_count": 70,
     "metadata": {},
     "output_type": "execute_result"
    }
   ],
   "source": [
    "ec_df=pd.concat([df_first2000, df_last2000], ignore_index=True)\n",
    "ec_df.head()"
   ]
  },
  {
   "cell_type": "code",
   "execution_count": 71,
   "metadata": {},
   "outputs": [],
   "source": [
    "def df_to_geojson(df, filename=\"EC2024.geojson\"):\n",
    "    geojson = {\n",
    "        \"type\": \"FeatureCollection\",\n",
    "        \"features\": []\n",
    "    }\n",
    "\n",
    "\n",
    "    for _, row in df.iterrows():\n",
    "        feature = {\n",
    "            \"type\": \"Feature\",\n",
    "            \"geometry\": {\n",
    "                \"type\": row['geometry.type'],\n",
    "                \"coordinates\": row['geometry.coordinates']  \n",
    "            },\n",
    "            \"properties\": row.drop(['geometry.type', 'geometry.coordinates']).to_dict()\n",
    "        }\n",
    "        geojson[\"features\"].append(feature)\n",
    "\n",
    "    # Write to GeoJSON file\n",
    "    with open(filename, 'w') as f:\n",
    "        json.dump(geojson, f)\n",
    "\n",
    "# Call function to save as GeoJSON\n",
    "df_to_geojson(ec_df, 'C:\\Mac\\Home\\Documents\\GIS5571_FinalProjectData\\EC2024.geojson')\n"
   ]
  },
  {
   "cell_type": "code",
   "execution_count": 72,
   "metadata": {},
   "outputs": [
    {
     "data": {
      "text/html": [
       "<div class='gpresult'><h2>Messages</h2><div id='messages'>Start Time: Tuesday, October 29, 2024 9:25:03 AM<br>Succeeded at Tuesday, October 29, 2024 9:25:43 AM (Elapsed Time: 39.45 seconds)<br></div><div id = 'default' /></div></div>"
      ],
      "text/plain": [
       "<Result 'C:\\\\Mac\\\\Home\\\\Documents\\\\ArcGIS\\\\Projects\\\\GIS5571Final_Project\\\\MyProject2\\\\MyProject2.gdb\\\\EC2024_All'>"
      ]
     },
     "execution_count": 72,
     "metadata": {},
     "output_type": "execute_result"
    }
   ],
   "source": [
    "arcpy.conversion.JSONToFeatures(\n",
    "    in_json_file=r\"C:\\Mac\\Home\\Documents\\GIS5571_FinalProjectData\\EC2024.geojson\",\n",
    "    out_features=r\"C:\\Mac\\Home\\Documents\\ArcGIS\\Projects\\GIS5571Final_Project\\MyProject2\\MyProject2.gdb\\EC2024_All\",\n",
    "    geometry_type=\"POLYGON\"\n",
    ")"
   ]
  },
  {
   "cell_type": "code",
   "execution_count": 16,
   "metadata": {},
   "outputs": [],
   "source": [
    "utility= arcpy.management.SelectLayerByAttribute(\n",
    "    in_layer_or_view=\"Electrical_Service_Boundaries\",\n",
    "    selection_type=\"NEW_SELECTION\",\n",
    "    where_clause=\"Owner = 'MidAmerican Energy' Or Owner = 'Interstate Power and Light Company'\",\n",
    "    invert_where_clause=None\n",
    ")"
   ]
  },
  {
   "cell_type": "code",
   "execution_count": 18,
   "metadata": {},
   "outputs": [],
   "source": [
    "output_fc = os.path.join(output_gdb, \"Utility\")\n",
    "utility=arcpy.CopyFeatures_management(selection, output_fc)"
   ]
  },
  {
   "cell_type": "code",
   "execution_count": 19,
   "metadata": {},
   "outputs": [
    {
     "data": {
      "text/html": [
       "<div class='gpresult'><h2>Messages</h2><div id='messages'>Start Time: Tuesday, October 29, 2024 8:47:26 AM<br>Reading Features...<br>Cracking Features...<br>Assembling Features...<br>Succeeded at Tuesday, October 29, 2024 8:47:32 AM (Elapsed Time: 5.99 seconds)<br></div><div id = 'default' /></div></div>"
      ],
      "text/plain": [
       "<Result 'C:\\\\Mac\\\\Home\\\\Documents\\\\ArcGIS\\\\Projects\\\\GIS5571Final_Project\\\\MyProject2\\\\MyProject2.gdb\\\\Utility_AHJ'>"
      ]
     },
     "execution_count": 19,
     "metadata": {},
     "output_type": "execute_result"
    }
   ],
   "source": [
    "arcpy.analysis.Intersect(\n",
    "    in_features=\"Utility #;county_boundaries #\",\n",
    "    out_feature_class=r\"C:\\Mac\\Home\\Documents\\ArcGIS\\Projects\\GIS5571Final_Project\\MyProject2\\MyProject2.gdb\\Utility_AHJ\",\n",
    "    join_attributes=\"ALL\",\n",
    "    cluster_tolerance=None,\n",
    "    output_type=\"INPUT\"\n",
    ")"
   ]
  },
  {
   "cell_type": "code",
   "execution_count": null,
   "metadata": {},
   "outputs": [],
   "source": []
  }
 ],
 "metadata": {
  "kernelspec": {
   "display_name": "ArcGISPro",
   "language": "Python",
   "name": "python3"
  },
  "language_info": {
   "file_extension": ".py",
   "name": "python",
   "version": "3"
  }
 },
 "nbformat": 4,
 "nbformat_minor": 2
}
