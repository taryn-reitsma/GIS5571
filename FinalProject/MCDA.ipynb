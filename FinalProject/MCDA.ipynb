{
 "cells": [
  {
   "cell_type": "code",
   "execution_count": null,
   "metadata": {},
   "outputs": [],
   "source": [
    "# Add join field to Utility AHJ\n",
    "arcpy.management.CalculateField(\n",
    "    in_table=\"Utility_AHJ\",\n",
    "    field=\"join\",\n",
    "    expression=\"str(!GEOID!)+!owner!\",\n",
    "    expression_type=\"PYTHON3\",\n",
    "    code_block=\"\",\n",
    "    field_type=\"TEXT\",\n",
    "    enforce_domains=\"NO_ENFORCE_DOMAINS\"\n",
    ")"
   ]
  },
  {
   "cell_type": "code",
   "execution_count": 10,
   "metadata": {},
   "outputs": [
    {
     "data": {
      "text/html": [
       "<div class='gpresult'><h2>Messages</h2><div id='messages'>Start Time: Thursday, November 14, 2024 1:20:07 PM<br>Succeeded at Thursday, November 14, 2024 1:20:12 PM (Elapsed Time: 5.67 seconds)<br></div><div id = 'default' /></div></div>"
      ],
      "text/plain": [
       "<Result 'Utility_AHJ'>"
      ]
     },
     "execution_count": 10,
     "metadata": {},
     "output_type": "execute_result"
    }
   ],
   "source": [
    "# Join site analytics to utility AHJ\n",
    "arcpy.management.JoinField(\n",
    "    in_data=\"Utility_AHJ\",\n",
    "    in_field=\"GEOID\",\n",
    "    join_table=\"IowaSiteAnalytics\",\n",
    "    join_field=\"AHJ__GEOID\",\n",
    "    fields=None,\n",
    "    fm_option=\"NOT_USE_FM\",\n",
    "    field_mapping=None,\n",
    "    index_join_fields=\"NO_INDEXES\"\n",
    ")"
   ]
  },
  {
   "cell_type": "code",
   "execution_count": null,
   "metadata": {},
   "outputs": [],
   "source": [
    "# Create new feature class with join\n",
    "arcpy.conversion.ExportFeatures(\n",
    "    in_features=\"Utility_AHJ\",\n",
    "    out_features=r\"C:\\Mac\\Home\\Documents\\ArcGIS\\Projects\\GIS5571Final_Project\\MyProject2\\MyProject2.gdb\\UtilityAHJ_SiteAnalytics\",\n",
    "    where_clause=\"\",\n",
    "    use_field_alias_as_name=\"NOT_USE_ALIAS\",\n",
    "    field_mapping='FID_IOUUtility_Dissolve \"FID_IOUUtility_Dissolve\" true true false 4 Long 0 0,First,#,Utility_AHJ,FID_IOUUtility_Dissolve,-1,-1;owner \"owner\" true true false 41 Text 0 0,First,#,Utility_AHJ,owner,0,40;FID_county_boundaries \"FID_county_boundaries\" true true false 4 Long 0 0,First,#,Utility_AHJ,FID_county_boundaries,-1,-1;COUNTYNS \"COUNTYNS\" true true false 8 Text 0 0,First,#,Utility_AHJ,COUNTYNS,0,7;GEOID \"GEOID\" true true false 5 Text 0 0,First,#,Utility_AHJ,GEOID,0,4;GEOIDFQ \"GEOIDFQ\" true true false 14 Text 0 0,First,#,Utility_AHJ,GEOIDFQ,0,13;NAMELSAD \"NAMELSAD\" true true false 100 Text 0 0,First,#,Utility_AHJ,NAMELSAD,0,99;CLASSFP \"CLASSFP\" true true false 2 Text 0 0,First,#,Utility_AHJ,CLASSFP,0,1;FUNCSTAT \"FUNCSTAT\" true true false 1 Text 0 0,First,#,Utility_AHJ,FUNCSTAT,0,254;ALAND \"ALAND\" true true false 8 Double 0 0,First,#,Utility_AHJ,ALAND,-1,-1;AWATER \"AWATER\" true true false 8 Double 0 0,First,#,Utility_AHJ,AWATER,-1,-1;INTPTLAT \"INTPTLAT\" true true false 11 Text 0 0,First,#,Utility_AHJ,INTPTLAT,0,10;INTPTLON \"INTPTLON\" true true false 12 Text 0 0,First,#,Utility_AHJ,INTPTLON,0,11;Shape_Length \"Shape_Length\" false true true 8 Double 0 0,First,#,Utility_AHJ,Shape_Length,-1,-1;Shape_Area \"Shape_Area\" false true true 8 Double 0 0,First,#,Utility_AHJ,Shape_Area,-1,-1;join \"join\" true true false 512 Text 0 0,First,#,Utility_AHJ,join,0,511;F__Potential_Sites_w_IX \"# Potential Sites w/IX\" true true false 4 Long 0 0,First,#,Utility_AHJ,F__Potential_Sites_w_IX,-1,-1;Buildable_Site_Acreage_w_IX \"Buildable Site Acreage w/IX\" true true false 8 Double 0 0,First,#,Utility_AHJ,Buildable_Site_Acreage_w_IX,-1,-1;Site_Acreage_w_IX \"Site Acreage w/IX\" true true false 8 Double 0 0,First,#,Utility_AHJ,Site_Acreage_w_IX,-1,-1;Buildable_Acreage_Per_Site \"Buildable Acreage Per Site\" true true false 8 Double 0 0,First,#,Utility_AHJ,Buildable_Acreage_Per_Site,-1,-1',\n",
    "    sort_field=None\n",
    ")"
   ]
  },
  {
   "cell_type": "code",
   "execution_count": 5,
   "metadata": {},
   "outputs": [
    {
     "data": {
      "text/html": [
       "<div class='gpresult'><h2>Messages</h2><div id='messages'>Start Time: Thursday, November 14, 2024 1:42:17 PM<br>Succeeded at Thursday, November 14, 2024 1:42:31 PM (Elapsed Time: 13.41 seconds)<br></div><div id = 'default' /></div></div>"
      ],
      "text/plain": [
       "<Result 'C:\\\\Mac\\\\Home\\\\Documents\\\\ArcGIS\\\\Projects\\\\GIS5571Final_Project\\\\MyProject2\\\\MyProject2.gdb\\\\PotentialSites'>"
      ]
     },
     "execution_count": 5,
     "metadata": {},
     "output_type": "execute_result"
    }
   ],
   "source": [
    "# Create Rasters from site analytics\n",
    "arcpy.conversion.PolygonToRaster(\n",
    "    in_features=\"UtilityAHJ_SiteAnalytics\",\n",
    "    value_field=\"F__Potential_Sites_w_IX\",\n",
    "    out_rasterdataset=r\"C:\\Mac\\Home\\Documents\\ArcGIS\\Projects\\GIS5571Final_Project\\MyProject2\\MyProject2.gdb\\PotentialSites\",\n",
    "    cell_assignment=\"CELL_CENTER\",\n",
    "    priority_field=\"NONE\",\n",
    "    cellsize=1400,\n",
    "    build_rat=\"BUILD\"\n",
    ")\n",
    "\n",
    "arcpy.conversion.PolygonToRaster(\n",
    "    in_features=\"UtilityAHJ_SiteAnalytics\",\n",
    "    value_field=\"Buildable_Site_Acreage_w_IX\",\n",
    "    out_rasterdataset=r\"C:\\Mac\\Home\\Documents\\ArcGIS\\Projects\\GIS5571Final_Project\\MyProject2\\MyProject2.gdb\\BuildableAcreage\",\n",
    "    cell_assignment=\"CELL_CENTER\",\n",
    "    priority_field=\"NONE\",\n",
    "    cellsize=1400,\n",
    "    build_rat=\"BUILD\"\n",
    ")\n",
    "\n",
    "arcpy.conversion.PolygonToRaster(\n",
    "    in_features=\"UtilityAHJ_SiteAnalytics\",\n",
    "    value_field=\"Buildable_Acreage_Per_Site\",\n",
    "    out_rasterdataset=r\"C:\\Mac\\Home\\Documents\\ArcGIS\\Projects\\GIS5571Final_Project\\MyProject2\\MyProject2.gdb\\BuildableAcreage_PerSite\",\n",
    "    cell_assignment=\"CELL_CENTER\",\n",
    "    priority_field=\"NONE\",\n",
    "    cellsize=1400,\n",
    "    build_rat=\"BUILD\"\n",
    ")"
   ]
  },
  {
   "cell_type": "code",
   "execution_count": 6,
   "metadata": {},
   "outputs": [],
   "source": [
    "#fuzzy membership (1/3)\n",
    "with arcpy.EnvManager(scratchWorkspace=r\"C:\\Mac\\Home\\Documents\\ArcGIS\\Projects\\GIS5571Final_Project\\MyProject2\\MyProject2.gdb\"):\n",
    "    out_raster = arcpy.sa.FuzzyMembership(\n",
    "        in_raster=\"PotentialSites\",\n",
    "        fuzzy_function=\"LARGE 532.5 5\",\n",
    "        hedge=\"NONE\"\n",
    "    )\n",
    "    out_raster.save(r\"C:\\Mac\\Home\\Documents\\ArcGIS\\Projects\\GIS5571Final_Project\\MyProject2\\MyProject2.gdb\\FuzzyPotentialsites\")"
   ]
  },
  {
   "cell_type": "code",
   "execution_count": 7,
   "metadata": {},
   "outputs": [],
   "source": [
    "#fuzzy membership (2/3)\n",
    "with arcpy.EnvManager(scratchWorkspace=r\"C:\\Mac\\Home\\Documents\\ArcGIS\\Projects\\GIS5571Final_Project\\MyProject2\\MyProject2.gdb\"):\n",
    "    out_raster = arcpy.sa.FuzzyMembership(\n",
    "        in_raster=\"BuildableAcreage_PerSite\",\n",
    "        fuzzy_function=\"LARGE 102.175 5\",\n",
    "        hedge=\"NONE\"\n",
    "    )\n",
    "    out_raster.save(r\"C:\\Mac\\Home\\Documents\\ArcGIS\\Projects\\GIS5571Final_Project\\MyProject2\\MyProject2.gdb\\FuzzyBuildableAcreage_perSite\")"
   ]
  },
  {
   "cell_type": "code",
   "execution_count": 8,
   "metadata": {},
   "outputs": [],
   "source": [
    "#fuzzy membership (3/3)\n",
    "with arcpy.EnvManager(scratchWorkspace=r\"C:\\Mac\\Home\\Documents\\ArcGIS\\Projects\\GIS5571Final_Project\\MyProject2\\MyProject2.gdb\"):\n",
    "    out_raster = arcpy.sa.FuzzyMembership(\n",
    "        in_raster=\"BuildableAcreage\",\n",
    "        fuzzy_function=\"LARGE 44315.565 5\",\n",
    "        hedge=\"NONE\"\n",
    "    )\n",
    "    out_raster.save(r\"C:\\Mac\\Home\\Documents\\ArcGIS\\Projects\\GIS5571Final_Project\\MyProject2\\MyProject2.gdb\\FuzzyBuildableAcreage\")"
   ]
  },
  {
   "cell_type": "code",
   "execution_count": 9,
   "metadata": {},
   "outputs": [],
   "source": [
    "#fuzzy composite with site analytics fuzzy membership rasters\n",
    "with arcpy.EnvManager(scratchWorkspace=r\"C:\\Mac\\Home\\Documents\\ArcGIS\\Projects\\GIS5571Final_Project\\MyProject2\\MyProject2.gdb\"):\n",
    "    out_raster = arcpy.sa.FuzzyOverlay(\n",
    "        in_rasters=\"FuzzyBuildableAcreage_perSite;fuzzypotentialsites;FuzzyBuildableAcreage\",\n",
    "        overlay_type=\"PRODUCT\",\n",
    "        gamma=0.9\n",
    "    )\n",
    "    out_raster.save(r\"C:\\Mac\\Home\\Documents\\ArcGIS\\Projects\\GIS5571Final_Project\\MyProject2\\MyProject2.gdb\\FuzzyComposite\")"
   ]
  },
  {
   "cell_type": "code",
   "execution_count": 23,
   "metadata": {},
   "outputs": [],
   "source": [
    "#Fuzzy overlay with UtilityAHJ/EC union and fuzzy site analytics composite\n",
    "with arcpy.EnvManager(scratchWorkspace=r\"C:\\Mac\\Home\\Documents\\ArcGIS\\Projects\\GIS5571Final_Project\\MyProject2\\MyProject2.gdb\"):\n",
    "    out_raster = arcpy.sa.FuzzyOverlay(\n",
    "        in_rasters=\"UtilityAHJ_EC_Union_PolygonToRaster;FuzzyComposite\",\n",
    "        overlay_type=\"SUM\",\n",
    "        gamma=0.9\n",
    "    )\n",
    "    out_raster.save(r\"C:\\Mac\\Home\\Documents\\ArcGIS\\Projects\\GIS5571Final_Project\\MyProject2\\MyProject2.gdb\\Union_FuzzyComp_Overlay\")"
   ]
  },
  {
   "cell_type": "code",
   "execution_count": null,
   "metadata": {},
   "outputs": [],
   "source": []
  }
 ],
 "metadata": {
  "kernelspec": {
   "display_name": "ArcGISPro",
   "language": "Python",
   "name": "python3"
  },
  "language_info": {
   "file_extension": ".py",
   "name": "python",
   "version": "3"
  }
 },
 "nbformat": 4,
 "nbformat_minor": 2
}
