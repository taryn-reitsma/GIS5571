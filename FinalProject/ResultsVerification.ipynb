{
 "cells": [
  {
   "cell_type": "code",
   "execution_count": 1,
   "metadata": {},
   "outputs": [],
   "source": [
    "#Connect to GIS\n",
    "from arcgis.gis import GIS\n",
    "gis = GIS(\"home\")"
   ]
  },
  {
   "cell_type": "code",
   "execution_count": 2,
   "metadata": {},
   "outputs": [],
   "source": [
    "import pandas as pd\n",
    "import arcpy\n",
    "from arcgis import features, GeoAccessor, GeoSeriesAccessor\n",
    "from arcgis.gis import GIS\n",
    "from arcgis.features.analysis import join_features\n",
    "from arcgis.features import FeatureLayerCollection, FeatureLayer\n",
    "from arcgis.geometry import SpatialReference , Geometry\n",
    "import json"
   ]
  },
  {
   "cell_type": "code",
   "execution_count": 3,
   "metadata": {},
   "outputs": [],
   "source": [
    "output_gdb= r\"C:\\Mac\\Home\\Documents\\ArcGIS\\Projects\\GIS5571Final_Project\\MyProject2\\MyProject2.gdb\"\n",
    "directory = r\"C:\\Mac\\Home\\Documents\\ArcGIS\\Projects\\GIS5571Final_Project\\MyProject2\""
   ]
  },
  {
   "cell_type": "code",
   "execution_count": 4,
   "metadata": {},
   "outputs": [],
   "source": [
    "# Fuzzy Site Analytics: ONLY fuzzypotentialsites and fuzzybuildableacreage\n",
    "with arcpy.EnvManager(scratchWorkspace=r\"C:\\Mac\\Home\\Documents\\ArcGIS\\Projects\\GIS5571Final_Project\\MyProject2\\MyProject2.gdb\"):\n",
    "    out_raster = arcpy.sa.FuzzyOverlay(\n",
    "        in_rasters=\"fuzzypotentialsites;FuzzyBuildableAcreage\",\n",
    "        overlay_type=\"SUM\",\n",
    "        gamma=0.9\n",
    "    )\n",
    "    out_raster.save(r\"C:\\Mac\\Home\\Documents\\ArcGIS\\Projects\\GIS5571Final_Project\\MyProject2\\MyProject2.gdb\\fuzzySiteAnalytics_Validation\")"
   ]
  },
  {
   "cell_type": "code",
   "execution_count": 5,
   "metadata": {},
   "outputs": [],
   "source": [
    "# Fuzzy Composite with fuzzysiteanalytics_validation and UtilityAHJ_EC_Union_PolygonToRaster\n",
    "with arcpy.EnvManager(scratchWorkspace=r\"C:\\Mac\\Home\\Documents\\ArcGIS\\Projects\\GIS5571Final_Project\\MyProject2\\MyProject2.gdb\"):\n",
    "    out_raster = arcpy.sa.FuzzyOverlay(\n",
    "        in_rasters=\"fuzzySiteAnalytics_Validation;UtilityAHJ_EC_Union_PolygonToRaster\",\n",
    "        overlay_type=\"PRODUCT\",\n",
    "        gamma=0.9\n",
    "    )\n",
    "    out_raster.save(r\"C:\\Mac\\Home\\Documents\\ArcGIS\\Projects\\GIS5571Final_Project\\MyProject2\\MyProject2.gdb\\fuzzycomposite_Validation1\")"
   ]
  },
  {
   "cell_type": "code",
   "execution_count": 6,
   "metadata": {},
   "outputs": [
    {
     "data": {
      "text/html": [
       "<div class='gpresult'><h2>Messages</h2><div id='messages'>Start Time: Saturday, December 7, 2024 4:23:23 PM<br>Succeeded at Saturday, December 7, 2024 4:23:24 PM (Elapsed Time: 0.72 seconds)<br></div><div id = 'default' /></div></div>"
      ],
      "text/plain": [
       "<Result 'UtilityAHJ_EC_Union'>"
      ]
     },
     "execution_count": 6,
     "metadata": {},
     "output_type": "execute_result"
    }
   ],
   "source": [
    "# Invert weighting scheme for UtilityAHJ_EC_Union\n",
    "\n",
    "# Assign weights to Utility/EC combinations 1/4\n",
    "arcpy.management.SelectLayerByAttribute(\n",
    "    in_layer_or_view=\"UtilityAHJ_EC_Union\",\n",
    "    selection_type=\"NEW_SELECTION\",\n",
    "    where_clause=\"owner = 'Interstate Power and Light Company' And name = 'EC2024'\",\n",
    "    invert_where_clause=None\n",
    ")\n",
    "\n",
    "arcpy.management.CalculateField(\n",
    "    in_table=\"UtilityAHJ_EC_Union\",\n",
    "    field=\"weight\",\n",
    "    expression= \"0.67\",\n",
    "    expression_type=\"PYTHON3\",\n",
    "    code_block=\"\",\n",
    "    field_type=\"TEXT\",\n",
    "    enforce_domains=\"NO_ENFORCE_DOMAINS\"\n",
    ")"
   ]
  },
  {
   "cell_type": "code",
   "execution_count": 7,
   "metadata": {},
   "outputs": [
    {
     "data": {
      "text/html": [
       "<div class='gpresult'><h2>Messages</h2><div id='messages'>Start Time: Saturday, December 7, 2024 4:23:39 PM<br>Succeeded at Saturday, December 7, 2024 4:23:40 PM (Elapsed Time: 0.59 seconds)<br></div><div id = 'default' /></div></div>"
      ],
      "text/plain": [
       "<Result 'UtilityAHJ_EC_Union'>"
      ]
     },
     "execution_count": 7,
     "metadata": {},
     "output_type": "execute_result"
    }
   ],
   "source": [
    "# Assign weights to Utility/EC combinations 2/4\n",
    "arcpy.management.SelectLayerByAttribute(\n",
    "    in_layer_or_view=\"UtilityAHJ_EC_Union\",\n",
    "    selection_type=\"NEW_SELECTION\",\n",
    "    where_clause=\"owner = 'MidAmerican Energy' And name = 'EC2024'\",\n",
    "    invert_where_clause=None\n",
    ")\n",
    "\n",
    "arcpy.management.CalculateField(\n",
    "    in_table=\"UtilityAHJ_EC_Union\",\n",
    "    field=\"weight\",\n",
    "    expression= \"0\",\n",
    "    expression_type=\"PYTHON3\",\n",
    "    code_block=\"\",\n",
    "    field_type=\"TEXT\",\n",
    "    enforce_domains=\"NO_ENFORCE_DOMAINS\"\n",
    ")"
   ]
  },
  {
   "cell_type": "code",
   "execution_count": 8,
   "metadata": {},
   "outputs": [
    {
     "data": {
      "text/html": [
       "<div class='gpresult'><h2>Messages</h2><div id='messages'>Start Time: Saturday, December 7, 2024 4:24:23 PM<br>Succeeded at Saturday, December 7, 2024 4:24:24 PM (Elapsed Time: 0.70 seconds)<br></div><div id = 'default' /></div></div>"
      ],
      "text/plain": [
       "<Result 'UtilityAHJ_EC_Union'>"
      ]
     },
     "execution_count": 8,
     "metadata": {},
     "output_type": "execute_result"
    }
   ],
   "source": [
    "# Assign weights to Utility/EC combinations 3/4\n",
    "arcpy.management.SelectLayerByAttribute(\n",
    "    in_layer_or_view=\"UtilityAHJ_EC_Union\",\n",
    "    selection_type=\"NEW_SELECTION\",\n",
    "    where_clause=\"owner = 'Interstate Power and Light Company' And name = ''\",\n",
    "    invert_where_clause=None\n",
    ")\n",
    "\n",
    "arcpy.management.CalculateField(\n",
    "    in_table=\"UtilityAHJ_EC_Union\",\n",
    "    field=\"weight\",\n",
    "    expression=\"1\",\n",
    "    expression_type=\"PYTHON3\",\n",
    "    code_block=\"\",\n",
    "    field_type=\"TEXT\",\n",
    "    enforce_domains=\"NO_ENFORCE_DOMAINS\"\n",
    ")"
   ]
  },
  {
   "cell_type": "code",
   "execution_count": 9,
   "metadata": {},
   "outputs": [
    {
     "data": {
      "text/html": [
       "<div class='gpresult'><h2>Messages</h2><div id='messages'>Start Time: Saturday, December 7, 2024 4:24:34 PM<br>Succeeded at Saturday, December 7, 2024 4:24:34 PM (Elapsed Time: 0.61 seconds)<br></div><div id = 'default' /></div></div>"
      ],
      "text/plain": [
       "<Result 'UtilityAHJ_EC_Union'>"
      ]
     },
     "execution_count": 9,
     "metadata": {},
     "output_type": "execute_result"
    }
   ],
   "source": [
    "# Assign weights to Utility/EC combinations 3/4\n",
    "arcpy.management.SelectLayerByAttribute(\n",
    "    in_layer_or_view=\"UtilityAHJ_EC_Union\",\n",
    "    selection_type=\"NEW_SELECTION\",\n",
    "    where_clause=\"owner = 'MidAmerican Energy' And name = ''\",\n",
    "    invert_where_clause=None\n",
    ")\n",
    "\n",
    "arcpy.management.CalculateField(\n",
    "    in_table=\"UtilityAHJ_EC_Union\",\n",
    "    field=\"weight\",\n",
    "    expression= \"0.33\",\n",
    "    expression_type=\"PYTHON3\",\n",
    "    code_block=\"\",\n",
    "    field_type=\"TEXT\",\n",
    "    enforce_domains=\"NO_ENFORCE_DOMAINS\"\n",
    ")"
   ]
  },
  {
   "cell_type": "code",
   "execution_count": 10,
   "metadata": {},
   "outputs": [
    {
     "data": {
      "text/html": [
       "<div class='gpresult'><h2>Messages</h2><div id='messages'>Start Time: Saturday, December 7, 2024 4:26:07 PM<br>Succeeded at Saturday, December 7, 2024 4:26:22 PM (Elapsed Time: 15.20 seconds)<br></div><div id = 'default' /></div></div>"
      ],
      "text/plain": [
       "<Result 'C:\\\\Mac\\\\Home\\\\Documents\\\\ArcGIS\\\\Projects\\\\GIS5571Final_Project\\\\MyProject2\\\\MyProject2.gdb\\\\UtilityAHJ_ECUnion_Validation'>"
      ]
     },
     "execution_count": 10,
     "metadata": {},
     "output_type": "execute_result"
    }
   ],
   "source": [
    "#weighted overlay with inverse weights\n",
    "arcpy.conversion.PolygonToRaster(\n",
    "    in_features=\"UtilityAHJ_EC_Union\",\n",
    "    value_field=\"weight\",\n",
    "    out_rasterdataset=r\"C:\\Mac\\Home\\Documents\\ArcGIS\\Projects\\GIS5571Final_Project\\MyProject2\\MyProject2.gdb\\UtilityAHJ_ECUnion_Validation\",\n",
    "    cell_assignment=\"CELL_CENTER\",\n",
    "    priority_field=\"NONE\",\n",
    "    cellsize=1400,\n",
    "    build_rat=\"BUILD\"\n",
    ")"
   ]
  },
  {
   "cell_type": "code",
   "execution_count": 14,
   "metadata": {},
   "outputs": [],
   "source": [
    "# Fuzzy Membership Inverse 1/3\n",
    "with arcpy.EnvManager(scratchWorkspace=r\"C:\\Mac\\Home\\Documents\\ArcGIS\\Projects\\GIS5571Final_Project\\MyProject2\\MyProject2.gdb\"):\n",
    "    out_raster = arcpy.sa.FuzzyMembership(\n",
    "        in_raster=\"BuildableAcreage\",\n",
    "        fuzzy_function=\"SMALL 44315.565 5\",\n",
    "        hedge=\"NONE\"\n",
    "    )\n",
    "    out_raster.save(r\"C:\\Mac\\Home\\Documents\\ArcGIS\\Projects\\GIS5571Final_Project\\MyProject2\\MyProject2.gdb\\fmBuildableAcreage_inverse\")"
   ]
  },
  {
   "cell_type": "code",
   "execution_count": 15,
   "metadata": {},
   "outputs": [],
   "source": [
    "# Fuzzy Membership Inverse 2/3\n",
    "with arcpy.EnvManager(scratchWorkspace=r\"C:\\Mac\\Home\\Documents\\ArcGIS\\Projects\\GIS5571Final_Project\\MyProject2\\MyProject2.gdb\"):\n",
    "    out_raster = arcpy.sa.FuzzyMembership(\n",
    "        in_raster=\"PotentialSites\",\n",
    "        fuzzy_function=\"SMALL 532.5 5\",\n",
    "        hedge=\"NONE\"\n",
    "    )\n",
    "    out_raster.save(r\"C:\\Mac\\Home\\Documents\\ArcGIS\\Projects\\GIS5571Final_Project\\MyProject2\\MyProject2.gdb\\fmPotentialSites_inverse\")"
   ]
  },
  {
   "cell_type": "code",
   "execution_count": 16,
   "metadata": {},
   "outputs": [],
   "source": [
    "# Fuzzy Membership Inverse 3/3\n",
    "with arcpy.EnvManager(scratchWorkspace=r\"C:\\Mac\\Home\\Documents\\ArcGIS\\Projects\\GIS5571Final_Project\\MyProject2\\MyProject2.gdb\"):\n",
    "    out_raster = arcpy.sa.FuzzyMembership(\n",
    "        in_raster=\"BuildableAcreage_PerSite\",\n",
    "        fuzzy_function=\"SMALL 102.175 5\",\n",
    "        hedge=\"NONE\"\n",
    "    )\n",
    "    out_raster.save(r\"C:\\Mac\\Home\\Documents\\ArcGIS\\Projects\\GIS5571Final_Project\\MyProject2\\MyProject2.gdb\\fmBuildableAcreagePerSite_inverse\")"
   ]
  },
  {
   "cell_type": "code",
   "execution_count": 17,
   "metadata": {},
   "outputs": [],
   "source": [
    "# Site Analytics Inverse Composite\n",
    "with arcpy.EnvManager(scratchWorkspace=r\"C:\\Mac\\Home\\Documents\\ArcGIS\\Projects\\GIS5571Final_Project\\MyProject2\\MyProject2.gdb\"):\n",
    "    out_raster = arcpy.sa.FuzzyOverlay(\n",
    "        in_rasters=\"fmPotentialSites_inverse;fmBuildableAcreagePerSite_inverse;fmBuildableAcreage_inverse\",\n",
    "        overlay_type=\"SUM\",\n",
    "        gamma=0.9\n",
    "    )\n",
    "    out_raster.save(r\"C:\\Mac\\Home\\Documents\\ArcGIS\\Projects\\GIS5571Final_Project\\MyProject2\\MyProject2.gdb\\fuzzycomposite_inverse\")"
   ]
  },
  {
   "cell_type": "code",
   "execution_count": 18,
   "metadata": {},
   "outputs": [],
   "source": [
    "# Inverse site analytics composite and UtilityAHJ_ECUnion fuzzy overlay\n",
    "with arcpy.EnvManager(scratchWorkspace=r\"C:\\Mac\\Home\\Documents\\ArcGIS\\Projects\\GIS5571Final_Project\\MyProject2\\MyProject2.gdb\"):\n",
    "    out_raster = arcpy.sa.FuzzyOverlay(\n",
    "        in_rasters=\"fuzzycomposite_inverse;UtilityAHJ_ECUnion_Validation\",\n",
    "        overlay_type=\"PRODUCT\",\n",
    "        gamma=0.9\n",
    "    )\n",
    "    out_raster.save(r\"C:\\Mac\\Home\\Documents\\ArcGIS\\Projects\\GIS5571Final_Project\\MyProject2\\MyProject2.gdb\\fuzzyunionanalytics_inverse\")"
   ]
  },
  {
   "cell_type": "code",
   "execution_count": null,
   "metadata": {},
   "outputs": [],
   "source": []
  }
 ],
 "metadata": {
  "kernelspec": {
   "display_name": "ArcGISPro",
   "language": "Python",
   "name": "python3"
  },
  "language_info": {
   "file_extension": ".py",
   "name": "python",
   "version": "3"
  }
 },
 "nbformat": 4,
 "nbformat_minor": 2
}
