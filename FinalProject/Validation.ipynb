{
 "cells": [
  {
   "cell_type": "code",
   "execution_count": 1,
   "metadata": {},
   "outputs": [],
   "source": [
    "import numpy as np"
   ]
  },
  {
   "cell_type": "code",
   "execution_count": 13,
   "metadata": {},
   "outputs": [
    {
     "name": "stdout",
     "output_type": "stream",
     "text": [
      "[0.11101834363231927, 0.11547429811487772, 0.7404673429414651, 0.03304001531133794]\n"
     ]
    }
   ],
   "source": [
    "# Randomize weights \n",
    "n = 4\n",
    "weight_list = np.random.dirichlet(np.ones(n), size=1)[0].tolist()\n",
    "print(weight_list)"
   ]
  },
  {
   "cell_type": "code",
   "execution_count": 19,
   "metadata": {},
   "outputs": [
    {
     "data": {
      "text/html": [
       "<div class='gpresult'><h2>Messages</h2><div id='messages'>Start Time: Saturday, November 30, 2024 1:24:01 PM<br>Succeeded at Saturday, November 30, 2024 1:24:02 PM (Elapsed Time: 1.29 seconds)<br></div><div id = 'default' /></div></div>"
      ],
      "text/plain": [
       "<Result 'UtilityAHJ_EC_Union'>"
      ]
     },
     "execution_count": 19,
     "metadata": {},
     "output_type": "execute_result"
    }
   ],
   "source": [
    "# Assign weights to Utility/EC combinations 1/4\n",
    "arcpy.management.SelectLayerByAttribute(\n",
    "    in_layer_or_view=\"UtilityAHJ_EC_Union\",\n",
    "    selection_type=\"NEW_SELECTION\",\n",
    "    where_clause=\"owner = 'Interstate Power and Light Company' And name = 'EC2024'\",\n",
    "    invert_where_clause=None\n",
    ")\n",
    "\n",
    "arcpy.management.CalculateField(\n",
    "    in_table=\"UtilityAHJ_EC_Union\",\n",
    "    field=\"weight\",\n",
    "    expression= weight_list[0],\n",
    "    expression_type=\"PYTHON3\",\n",
    "    code_block=\"\",\n",
    "    field_type=\"TEXT\",\n",
    "    enforce_domains=\"NO_ENFORCE_DOMAINS\"\n",
    ")"
   ]
  },
  {
   "cell_type": "code",
   "execution_count": 20,
   "metadata": {},
   "outputs": [
    {
     "data": {
      "text/html": [
       "<div class='gpresult'><h2>Messages</h2><div id='messages'>Start Time: Saturday, November 30, 2024 1:24:10 PM<br>Succeeded at Saturday, November 30, 2024 1:24:11 PM (Elapsed Time: 1.18 seconds)<br></div><div id = 'default' /></div></div>"
      ],
      "text/plain": [
       "<Result 'UtilityAHJ_EC_Union'>"
      ]
     },
     "execution_count": 20,
     "metadata": {},
     "output_type": "execute_result"
    }
   ],
   "source": [
    "# Assign weights to Utility/EC combinations 2/4\n",
    "arcpy.management.SelectLayerByAttribute(\n",
    "    in_layer_or_view=\"UtilityAHJ_EC_Union\",\n",
    "    selection_type=\"NEW_SELECTION\",\n",
    "    where_clause=\"owner = 'MidAmerican Energy' And name = 'EC2024'\",\n",
    "    invert_where_clause=None\n",
    ")\n",
    "\n",
    "arcpy.management.CalculateField(\n",
    "    in_table=\"UtilityAHJ_EC_Union\",\n",
    "    field=\"weight\",\n",
    "    expression= weight_list[1],\n",
    "    expression_type=\"PYTHON3\",\n",
    "    code_block=\"\",\n",
    "    field_type=\"TEXT\",\n",
    "    enforce_domains=\"NO_ENFORCE_DOMAINS\"\n",
    ")"
   ]
  },
  {
   "cell_type": "code",
   "execution_count": 21,
   "metadata": {},
   "outputs": [
    {
     "data": {
      "text/html": [
       "<div class='gpresult'><h2>Messages</h2><div id='messages'>Start Time: Saturday, November 30, 2024 1:24:34 PM<br>Succeeded at Saturday, November 30, 2024 1:24:35 PM (Elapsed Time: 1.01 seconds)<br></div><div id = 'default' /></div></div>"
      ],
      "text/plain": [
       "<Result 'UtilityAHJ_EC_Union'>"
      ]
     },
     "execution_count": 21,
     "metadata": {},
     "output_type": "execute_result"
    }
   ],
   "source": [
    "# Assign weights to Utility/EC combinations 3/4\n",
    "arcpy.management.SelectLayerByAttribute(\n",
    "    in_layer_or_view=\"UtilityAHJ_EC_Union\",\n",
    "    selection_type=\"NEW_SELECTION\",\n",
    "    where_clause=\"owner = 'Interstate Power and Light Company' And name = ''\",\n",
    "    invert_where_clause=None\n",
    ")\n",
    "\n",
    "arcpy.management.CalculateField(\n",
    "    in_table=\"UtilityAHJ_EC_Union\",\n",
    "    field=\"weight\",\n",
    "    expression=weight_list[2],\n",
    "    expression_type=\"PYTHON3\",\n",
    "    code_block=\"\",\n",
    "    field_type=\"TEXT\",\n",
    "    enforce_domains=\"NO_ENFORCE_DOMAINS\"\n",
    ")"
   ]
  },
  {
   "cell_type": "code",
   "execution_count": 22,
   "metadata": {},
   "outputs": [
    {
     "data": {
      "text/html": [
       "<div class='gpresult'><h2>Messages</h2><div id='messages'>Start Time: Saturday, November 30, 2024 1:25:13 PM<br>Succeeded at Saturday, November 30, 2024 1:25:14 PM (Elapsed Time: 1.07 seconds)<br></div><div id = 'default' /></div></div>"
      ],
      "text/plain": [
       "<Result 'UtilityAHJ_EC_Union'>"
      ]
     },
     "execution_count": 22,
     "metadata": {},
     "output_type": "execute_result"
    }
   ],
   "source": [
    "# Assign weights to Utility/EC combinations 3/4\n",
    "arcpy.management.SelectLayerByAttribute(\n",
    "    in_layer_or_view=\"UtilityAHJ_EC_Union\",\n",
    "    selection_type=\"NEW_SELECTION\",\n",
    "    where_clause=\"owner = 'MidAmerican Energy' And name = ''\",\n",
    "    invert_where_clause=None\n",
    ")\n",
    "\n",
    "arcpy.management.CalculateField(\n",
    "    in_table=\"UtilityAHJ_EC_Union\",\n",
    "    field=\"weight\",\n",
    "    expression= weight_list[3],\n",
    "    expression_type=\"PYTHON3\",\n",
    "    code_block=\"\",\n",
    "    field_type=\"TEXT\",\n",
    "    enforce_domains=\"NO_ENFORCE_DOMAINS\"\n",
    ")"
   ]
  },
  {
   "cell_type": "code",
   "execution_count": 24,
   "metadata": {},
   "outputs": [
    {
     "data": {
      "text/html": [
       "<div class='gpresult'><h2>Messages</h2><div id='messages'>Start Time: Saturday, November 30, 2024 1:26:28 PM<br>Succeeded at Saturday, November 30, 2024 1:26:52 PM (Elapsed Time: 24.21 seconds)<br></div><div id = 'default' /></div></div>"
      ],
      "text/plain": [
       "<Result 'C:\\\\Mac\\\\Home\\\\Documents\\\\ArcGIS\\\\Projects\\\\GIS5571Final_Project\\\\MyProject2\\\\MyProject2.gdb\\\\UtilityAHJ_EC_Union_PolygonToRaster_Validation'>"
      ]
     },
     "execution_count": 24,
     "metadata": {},
     "output_type": "execute_result"
    }
   ],
   "source": [
    "# weighted overlay\n",
    "arcpy.conversion.PolygonToRaster(\n",
    "    in_features=\"UtilityAHJ_EC_Union\",\n",
    "    value_field=\"weight\",\n",
    "    out_rasterdataset=r\"C:\\Mac\\Home\\Documents\\ArcGIS\\Projects\\GIS5571Final_Project\\MyProject2\\MyProject2.gdb\\UtilityAHJ_EC_Union_PolygonToRaster_Validation\",\n",
    "    cell_assignment=\"CELL_CENTER\",\n",
    "    priority_field=\"NONE\",\n",
    "    cellsize=1400,\n",
    "    build_rat=\"BUILD\"  \n",
    ")"
   ]
  },
  {
   "cell_type": "code",
   "execution_count": 25,
   "metadata": {},
   "outputs": [],
   "source": [
    "#Fuzzy overlay with UtilityAHJ/EC union and fuzzy site analytics composite\n",
    "with arcpy.EnvManager(scratchWorkspace=r\"C:\\Mac\\Home\\Documents\\ArcGIS\\Projects\\GIS5571Final_Project\\MyProject2\\MyProject2.gdb\"):\n",
    "    out_raster = arcpy.sa.FuzzyOverlay(\n",
    "        in_rasters=\"UtilityAHJ_EC_Union_PolygonToRaster_validation;FuzzyComposite\",\n",
    "        overlay_type=\"SUM\",\n",
    "        gamma=0.9\n",
    "    )\n",
    "    out_raster.save(r\"C:\\Mac\\Home\\Documents\\ArcGIS\\Projects\\GIS5571Final_Project\\MyProject2\\MyProject2.gdb\\Union_FuzzyComp_Overlay_Validation\")"
   ]
  },
  {
   "cell_type": "code",
   "execution_count": null,
   "metadata": {},
   "outputs": [],
   "source": []
  }
 ],
 "metadata": {
  "kernelspec": {
   "display_name": "ArcGISPro",
   "language": "Python",
   "name": "python3"
  },
  "language_info": {
   "file_extension": ".py",
   "name": "python",
   "version": "3"
  }
 },
 "nbformat": 4,
 "nbformat_minor": 2
}
