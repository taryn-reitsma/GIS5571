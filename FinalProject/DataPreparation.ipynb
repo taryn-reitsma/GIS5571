{
 "cells": [
  {
   "cell_type": "code",
   "execution_count": 1,
   "metadata": {},
   "outputs": [],
   "source": [
    "#Connect to GIS\n",
    "from arcgis.gis import GIS\n",
    "gis = GIS(\"home\")"
   ]
  },
  {
   "cell_type": "code",
   "execution_count": 2,
   "metadata": {},
   "outputs": [],
   "source": [
    "import requests\n",
    "import pandas as pd\n",
    "import zipfile\n",
    "import os\n",
    "import io\n",
    "import arcpy\n",
    "from arcgis import features, GeoAccessor, GeoSeriesAccessor\n",
    "from arcgis.gis import GIS\n",
    "from arcgis.features.analysis import join_features\n",
    "from arcgis.features import FeatureLayerCollection, FeatureLayer\n",
    "from arcgis.geometry import SpatialReference , Geometry\n",
    "import json"
   ]
  },
  {
   "cell_type": "code",
   "execution_count": 3,
   "metadata": {},
   "outputs": [],
   "source": [
    "directory= 'C:\\Mac\\Home\\Documents\\GIS5571_FinalProjectData'\n",
    "output_gdb = r\"C:\\Mac\\Home\\Documents\\ArcGIS\\Projects\\GIS5571Final_Project\\MyProject2\\MyProject2.gdb\" \n",
    "\n",
    "#Get TIGER gdb\n",
    "url= r'https://www2.census.gov/geo/tiger/TGRGDB24/tlgdb_2024_a_19_ia.gdb.zip'\n",
    "request= requests.get(url)\n",
    "with open('C:\\Mac\\Home\\Documents\\GIS5571_FinalProjectData\\tlgdb_2024_a_19_ia.gdb.zip', 'wb') as file:\n",
    "    file.write(request.content)\n",
    "    \n",
    "#unzip\n",
    "zip_path ='C:\\Mac\\Home\\Documents\\GIS5571_FinalProjectData\\tlgdb_2024_a_19_ia.gdb.zip'\n",
    "with zipfile.ZipFile(zip_path, 'r') as zip_ref:\n",
    "    zip_ref.extractall(directory)"
   ]
  },
  {
   "cell_type": "code",
   "execution_count": 4,
   "metadata": {},
   "outputs": [
    {
     "data": {
      "text/html": [
       "<div class='gpresult'><h2>Messages</h2><div id='messages'>Start Time: Thursday, October 31, 2024 9:21:21 AM<br>Succeeded at Thursday, October 31, 2024 9:21:27 AM (Elapsed Time: 6.00 seconds)<br></div><div id = 'default' /></div></div>"
      ],
      "text/plain": [
       "<Result 'C:\\\\Mac\\\\Home\\\\Documents\\\\ArcGIS\\\\Projects\\\\GIS5571Final_Project\\\\MyProject2\\\\MyProject2.gdb\\\\county_boundaries'>"
      ]
     },
     "execution_count": 4,
     "metadata": {},
     "output_type": "execute_result"
    }
   ],
   "source": [
    "county= r'C:\\Mac\\Home\\Documents\\GIS5571_FinalProjectData\\tlgdb_2024_a_19_ia.gdb\\County'\n",
    "arcpy.conversion.FeatureClassToFeatureClass(county, output_gdb, 'county_boundaries')"
   ]
  },
  {
   "cell_type": "code",
   "execution_count": 5,
   "metadata": {},
   "outputs": [
    {
     "data": {
      "text/plain": [
       "'C:\\\\Mac\\\\Home\\\\Documents\\\\ArcGIS\\\\Projects\\\\GIS5571Final_Project\\\\MyProject2\\\\MyProject2.gdb\\\\Utility'"
      ]
     },
     "execution_count": 5,
     "metadata": {},
     "output_type": "execute_result"
    }
   ],
   "source": [
    "esb_fl = FeatureLayer(\"https://services.arcgis.com/vPD5PVLI6sfkZ5E4/ArcGIS/rest/services/Electrical_Service_Boundaries/FeatureServer/14\")\n",
    "sedf= pd.DataFrame.spatial.from_layer(esb_fl)\n",
    "\n",
    "out_name = \"Utility\"\n",
    "sedf.spatial.to_featureclass(location=f\"{output_gdb}/{out_name}\")"
   ]
  },
  {
   "cell_type": "code",
   "execution_count": 6,
   "metadata": {},
   "outputs": [
    {
     "data": {
      "text/plain": [
       "'C:\\\\Mac\\\\Home\\\\Documents\\\\ArcGIS\\\\Projects\\\\GIS5571Final_Project\\\\MyProject2\\\\MyProject2.gdb\\\\EC2024_all'"
      ]
     },
     "execution_count": 6,
     "metadata": {},
     "output_type": "execute_result"
    }
   ],
   "source": [
    "ec_fl = FeatureLayer(\"https://arcgis.netl.doe.gov/server/rest/services/Hosted/2024_Coal_Closure_Energy_Communities/FeatureServer/0\")\n",
    "ecsedf= pd.DataFrame.spatial.from_layer(ec_fl)\n",
    "\n",
    "out_name = \"EC2024_all\"\n",
    "ecsedf.spatial.to_featureclass(location=f\"{output_gdb}/{out_name}\")"
   ]
  },
  {
   "cell_type": "code",
   "execution_count": 7,
   "metadata": {},
   "outputs": [],
   "source": [
    "utility= arcpy.management.SelectLayerByAttribute(\n",
    "    in_layer_or_view=\"Utility\",\n",
    "    selection_type=\"NEW_SELECTION\",\n",
    "    where_clause=\"Owner = 'MidAmerican Energy' Or Owner = 'Interstate Power and Light Company'\",\n",
    "    invert_where_clause=None\n",
    ")"
   ]
  },
  {
   "cell_type": "code",
   "execution_count": 8,
   "metadata": {
    "scrolled": true
   },
   "outputs": [
    {
     "data": {
      "text/html": [
       "<div class='gpresult'><h2>Messages</h2><div id='messages'>Start Time: Thursday, October 31, 2024 9:25:53 AM<br>Succeeded at Thursday, October 31, 2024 9:25:58 AM (Elapsed Time: 4.42 seconds)<br></div><div id = 'default' /></div></div>"
      ],
      "text/plain": [
       "<Result 'C:\\\\Mac\\\\Home\\\\Documents\\\\ArcGIS\\\\Projects\\\\GIS5571Final_Project\\\\MyProject2\\\\MyProject2.gdb\\\\IOUUtility'>"
      ]
     },
     "execution_count": 8,
     "metadata": {},
     "output_type": "execute_result"
    }
   ],
   "source": [
    "output_fc = os.path.join(output_gdb, \"IOUUtility\")\n",
    "arcpy.CopyFeatures_management(utility, output_fc)"
   ]
  },
  {
   "cell_type": "code",
   "execution_count": 24,
   "metadata": {},
   "outputs": [
    {
     "data": {
      "text/html": [
       "<div class='gpresult'><h2>Messages</h2><div id='messages'>Start Time: Tuesday, November 12, 2024 2:10:41 PM<br>Sorting Attributes...<br>Dissolving...<br>Succeeded at Tuesday, November 12, 2024 2:10:45 PM (Elapsed Time: 3.81 seconds)<br></div><div id = 'default' /></div></div>"
      ],
      "text/plain": [
       "<Result 'C:\\\\Mac\\\\Home\\\\Documents\\\\ArcGIS\\\\Projects\\\\GIS5571Final_Project\\\\MyProject2\\\\MyProject2.gdb\\\\IOUUtility_Dissolve'>"
      ]
     },
     "execution_count": 24,
     "metadata": {},
     "output_type": "execute_result"
    }
   ],
   "source": [
    "arcpy.management.Dissolve(\n",
    "    in_features=\"IOUUtility\",\n",
    "    out_feature_class=r\"C:\\Mac\\Home\\Documents\\ArcGIS\\Projects\\GIS5571Final_Project\\MyProject2\\MyProject2.gdb\\IOUUtility_Dissolve\",\n",
    "    dissolve_field=\"owner\",\n",
    "    statistics_fields=None,\n",
    "    multi_part=\"MULTI_PART\",\n",
    "    unsplit_lines=\"DISSOLVE_LINES\",\n",
    "    concatenation_separator=\"\"\n",
    ")"
   ]
  },
  {
   "cell_type": "code",
   "execution_count": 1,
   "metadata": {},
   "outputs": [
    {
     "data": {
      "text/html": [
       "<div class='gpresult'><h2>Messages</h2><div id='messages'>Start Time: Thursday, November 14, 2024 1:25:13 PM<br>Reading Features...<br>Cracking Features...<br>Assembling Features...<br>Succeeded at Thursday, November 14, 2024 1:25:19 PM (Elapsed Time: 5.83 seconds)<br></div><div id = 'default' /></div></div>"
      ],
      "text/plain": [
       "<Result 'C:\\\\Mac\\\\Home\\\\Documents\\\\ArcGIS\\\\Projects\\\\GIS5571Final_Project\\\\MyProject2\\\\MyProject2.gdb\\\\Utility_AHJ'>"
      ]
     },
     "execution_count": 1,
     "metadata": {},
     "output_type": "execute_result"
    }
   ],
   "source": [
    "arcpy.analysis.Intersect(\n",
    "    in_features=\"IOUUtility_Dissolve #;county_boundaries #\",\n",
    "    out_feature_class=r\"C:\\Mac\\Home\\Documents\\ArcGIS\\Projects\\GIS5571Final_Project\\MyProject2\\MyProject2.gdb\\Utility_AHJ\",\n",
    "    join_attributes=\"ALL\",\n",
    "    cluster_tolerance=None,\n",
    "    output_type=\"INPUT\"\n",
    ")"
   ]
  },
  {
   "cell_type": "code",
   "execution_count": 13,
   "metadata": {},
   "outputs": [],
   "source": [
    "# Definition Query for EC: State= IA\n",
    "aprx = arcpy.mp.ArcGISProject(\"CURRENT\")\n",
    "map_obj = aprx.listMaps(\"Map\")[0] \n",
    "layer = map_obj.listLayers(\"EC2024_All\")[0]\n",
    "layer.definitionQuery = \"state_name = 'Iowa'\"  "
   ]
  },
  {
   "cell_type": "code",
   "execution_count": 1,
   "metadata": {},
   "outputs": [
    {
     "data": {
      "text/html": [
       "<div class='gpresult'><h2>Messages</h2><div id='messages'>Start Time: Tuesday, October 29, 2024 4:15:11 PM<br>Converted C:\\\\Mac\\\\Home\\\\Documents\\\\GIS5571_FinalProjectData\\\\IowaSiteAnalytics.csv to C:\\\\Mac\\\\Home\\\\Documents\\\\ArcGIS\\\\Projects\\\\GIS5571Final_Project\\\\MyProject2\\\\MyProject2.gdb\\\\IowaSiteAnalytics successfully.<br>Succeeded at Tuesday, October 29, 2024 4:15:15 PM (Elapsed Time: 3.29 seconds)<br></div><div id = 'default' /></div></div>"
      ],
      "text/plain": [
       "<Result 'C:\\\\Mac\\\\Home\\\\Documents\\\\ArcGIS\\\\Projects\\\\GIS5571Final_Project\\\\MyProject2\\\\MyProject2.gdb'>"
      ]
     },
     "execution_count": 1,
     "metadata": {},
     "output_type": "execute_result"
    }
   ],
   "source": [
    "arcpy.conversion.TableToGeodatabase(\n",
    "    Input_Table=r\"C:\\Mac\\Home\\Documents\\GIS5571_FinalProjectData\\IowaSiteAnalytics.csv\",\n",
    "    Output_Geodatabase=r\"C:\\Mac\\Home\\Documents\\ArcGIS\\Projects\\GIS5571Final_Project\\MyProject2\\MyProject2.gdb\"\n",
    ")"
   ]
  },
  {
   "cell_type": "code",
   "execution_count": 13,
   "metadata": {},
   "outputs": [
    {
     "data": {
      "text/html": [
       "<div class='gpresult'><h2>Messages</h2><div id='messages'>Start Time: Tuesday, November 12, 2024 1:14:20 PM<br>Dissolving...<br>Succeeded at Tuesday, November 12, 2024 1:14:24 PM (Elapsed Time: 3.73 seconds)<br></div><div id = 'default' /></div></div>"
      ],
      "text/plain": [
       "<Result 'C:\\\\Mac\\\\Home\\\\Documents\\\\ArcGIS\\\\Projects\\\\GIS5571Final_Project\\\\MyProject2\\\\MyProject2.gdb\\\\ec_dissolve'>"
      ]
     },
     "execution_count": 13,
     "metadata": {},
     "output_type": "execute_result"
    }
   ],
   "source": [
    "arcpy.management.Dissolve(\n",
    "    in_features=\"EC2024_all\",\n",
    "    out_feature_class=r\"C:\\Mac\\Home\\Documents\\ArcGIS\\Projects\\GIS5571Final_Project\\MyProject2\\MyProject2.gdb\\ec_dissolve\",\n",
    "    dissolve_field=None,\n",
    "    statistics_fields=None,\n",
    "    multi_part=\"MULTI_PART\",\n",
    "    unsplit_lines=\"DISSOLVE_LINES\",\n",
    "    concatenation_separator=\"\"\n",
    ")"
   ]
  },
  {
   "cell_type": "markdown",
   "metadata": {},
   "source": [
    "## Boolean Decision Analysis and Adding Weights"
   ]
  },
  {
   "cell_type": "code",
   "execution_count": 1,
   "metadata": {},
   "outputs": [
    {
     "data": {
      "text/html": [
       "<div class='gpresult'><h2>Messages</h2><div id='messages'>Start Time: Thursday, November 14, 2024 12:47:58 PM<br>Reading Features...<br>Cracking Features...<br>Assembling Features...<br>Succeeded at Thursday, November 14, 2024 12:48:02 PM (Elapsed Time: 4.17 seconds)<br></div><div id = 'default' /></div></div>"
      ],
      "text/plain": [
       "<Result 'C:\\\\Mac\\\\Home\\\\Documents\\\\ArcGIS\\\\Projects\\\\GIS5571Final_Project\\\\MyProject2\\\\MyProject2.gdb\\\\UtilityAHJ_EC_Union'>"
      ]
     },
     "execution_count": 1,
     "metadata": {},
     "output_type": "execute_result"
    }
   ],
   "source": [
    "#Utility AHJ and EC Union\n",
    "arcpy.analysis.Union(\n",
    "    in_features=\"Utility_AHJ #;ec_dissolve #\",\n",
    "    out_feature_class=r\"C:\\Mac\\Home\\Documents\\ArcGIS\\Projects\\GIS5571Final_Project\\MyProject2\\MyProject2.gdb\\UtilityAHJ_EC_Union\",\n",
    "    join_attributes=\"ALL\",\n",
    "    cluster_tolerance=None,\n",
    "    gaps=\"GAPS\"\n",
    ")"
   ]
  },
  {
   "cell_type": "code",
   "execution_count": 15,
   "metadata": {},
   "outputs": [
    {
     "data": {
      "text/html": [
       "<div class='gpresult'><h2>Messages</h2><div id='messages'>Start Time: Thursday, November 14, 2024 2:12:25 PM<br>Adding weight to UtilityAHJ_EC_Union...<br>Succeeded at Thursday, November 14, 2024 2:12:27 PM (Elapsed Time: 1.20 seconds)<br></div><div id = 'default' /></div></div>"
      ],
      "text/plain": [
       "<Result 'UtilityAHJ_EC_Union'>"
      ]
     },
     "execution_count": 15,
     "metadata": {},
     "output_type": "execute_result"
    }
   ],
   "source": [
    "# Add weights field\n",
    "arcpy.management.AddField(\n",
    "    in_table=\"UtilityAHJ_EC_Union\",\n",
    "    field_name=\"weight\",\n",
    "    field_type=\"FLOAT\",\n",
    "    field_precision=None,\n",
    "    field_scale=None,\n",
    "    field_length=None,\n",
    "    field_alias=\"\",\n",
    "    field_is_nullable=\"NULLABLE\",\n",
    "    field_is_required=\"NON_REQUIRED\",\n",
    "    field_domain=\"\"\n",
    ")"
   ]
  },
  {
   "cell_type": "code",
   "execution_count": 3,
   "metadata": {},
   "outputs": [
    {
     "data": {
      "text/html": [
       "<div class='gpresult'><h2>Messages</h2><div id='messages'>Start Time: Thursday, November 14, 2024 12:52:31 PM<br>Succeeded at Thursday, November 14, 2024 12:52:31 PM (Elapsed Time: 0.08 seconds)<br></div><div id = 'default' /></div></div>"
      ],
      "text/plain": [
       "<Result 'UtilityAHJ_EC_Union'>"
      ]
     },
     "execution_count": 3,
     "metadata": {},
     "output_type": "execute_result"
    }
   ],
   "source": [
    "#Select rows with no IOU utility\n",
    "arcpy.management.SelectLayerByAttribute(\n",
    "    in_layer_or_view=\"UtilityAHJ_EC_Union\",\n",
    "    selection_type=\"NEW_SELECTION\",\n",
    "    where_clause=\"owner = ''\",\n",
    "    invert_where_clause=None\n",
    ")"
   ]
  },
  {
   "cell_type": "code",
   "execution_count": 4,
   "metadata": {},
   "outputs": [
    {
     "data": {
      "text/html": [
       "<div class='gpresult'><h2>Messages</h2><div id='messages'>Start Time: Thursday, November 14, 2024 12:53:33 PM<br>Succeeded at Thursday, November 14, 2024 12:53:35 PM (Elapsed Time: 1.75 seconds)<br></div><div id = 'default' /></div></div>"
      ],
      "text/plain": [
       "<Result 'UtilityAHJ_EC_Union'>"
      ]
     },
     "execution_count": 4,
     "metadata": {},
     "output_type": "execute_result"
    }
   ],
   "source": [
    "#Delete rows with no IOU utility\n",
    "arcpy.management.DeleteRows(\n",
    "    in_rows=\"UtilityAHJ_EC_Union\"\n",
    ")"
   ]
  },
  {
   "cell_type": "code",
   "execution_count": 18,
   "metadata": {
    "scrolled": true
   },
   "outputs": [
    {
     "data": {
      "text/html": [
       "<div class='gpresult'><h2>Messages</h2><div id='messages'>Start Time: Thursday, November 14, 2024 2:13:47 PM<br>Succeeded at Thursday, November 14, 2024 2:13:48 PM (Elapsed Time: 0.55 seconds)<br></div><div id = 'default' /></div></div>"
      ],
      "text/plain": [
       "<Result 'UtilityAHJ_EC_Union'>"
      ]
     },
     "execution_count": 18,
     "metadata": {},
     "output_type": "execute_result"
    }
   ],
   "source": [
    "# Assign weights to Utility/EC combinations\n",
    "arcpy.management.SelectLayerByAttribute(\n",
    "    in_layer_or_view=\"UtilityAHJ_EC_Union\",\n",
    "    selection_type=\"NEW_SELECTION\",\n",
    "    where_clause=\"owner = 'Interstate Power and Light Company' And name = 'EC2024'\",\n",
    "    invert_where_clause=None\n",
    ")\n",
    "\n",
    "arcpy.management.CalculateField(\n",
    "    in_table=\"UtilityAHJ_EC_Union\",\n",
    "    field=\"weight\",\n",
    "    expression=\"0.33\",\n",
    "    expression_type=\"PYTHON3\",\n",
    "    code_block=\"\",\n",
    "    field_type=\"TEXT\",\n",
    "    enforce_domains=\"NO_ENFORCE_DOMAINS\"\n",
    ")"
   ]
  },
  {
   "cell_type": "code",
   "execution_count": 17,
   "metadata": {},
   "outputs": [
    {
     "data": {
      "text/html": [
       "<div class='gpresult'><h2>Messages</h2><div id='messages'>Start Time: Thursday, November 14, 2024 2:13:23 PM<br>Succeeded at Thursday, November 14, 2024 2:13:24 PM (Elapsed Time: 0.65 seconds)<br></div><div id = 'default' /></div></div>"
      ],
      "text/plain": [
       "<Result 'UtilityAHJ_EC_Union'>"
      ]
     },
     "execution_count": 17,
     "metadata": {},
     "output_type": "execute_result"
    }
   ],
   "source": [
    "arcpy.management.SelectLayerByAttribute(\n",
    "    in_layer_or_view=\"UtilityAHJ_EC_Union\",\n",
    "    selection_type=\"NEW_SELECTION\",\n",
    "    where_clause=\"owner = 'MidAmerican Energy' And name = 'EC2024'\",\n",
    "    invert_where_clause=None\n",
    ")\n",
    "\n",
    "arcpy.management.CalculateField(\n",
    "    in_table=\"UtilityAHJ_EC_Union\",\n",
    "    field=\"weight\",\n",
    "    expression=\"1\",\n",
    "    expression_type=\"PYTHON3\",\n",
    "    code_block=\"\",\n",
    "    field_type=\"TEXT\",\n",
    "    enforce_domains=\"NO_ENFORCE_DOMAINS\"\n",
    ")"
   ]
  },
  {
   "cell_type": "code",
   "execution_count": 19,
   "metadata": {},
   "outputs": [
    {
     "data": {
      "text/html": [
       "<div class='gpresult'><h2>Messages</h2><div id='messages'>Start Time: Thursday, November 14, 2024 2:14:09 PM<br>Succeeded at Thursday, November 14, 2024 2:14:09 PM (Elapsed Time: 0.52 seconds)<br></div><div id = 'default' /></div></div>"
      ],
      "text/plain": [
       "<Result 'UtilityAHJ_EC_Union'>"
      ]
     },
     "execution_count": 19,
     "metadata": {},
     "output_type": "execute_result"
    }
   ],
   "source": [
    "arcpy.management.SelectLayerByAttribute(\n",
    "    in_layer_or_view=\"UtilityAHJ_EC_Union\",\n",
    "    selection_type=\"NEW_SELECTION\",\n",
    "    where_clause=\"owner = 'Interstate Power and Light Company' And name = ''\",\n",
    "    invert_where_clause=None\n",
    ")\n",
    "\n",
    "arcpy.management.CalculateField(\n",
    "    in_table=\"UtilityAHJ_EC_Union\",\n",
    "    field=\"weight\",\n",
    "    expression=\"0\",\n",
    "    expression_type=\"PYTHON3\",\n",
    "    code_block=\"\",\n",
    "    field_type=\"TEXT\",\n",
    "    enforce_domains=\"NO_ENFORCE_DOMAINS\"\n",
    ")"
   ]
  },
  {
   "cell_type": "code",
   "execution_count": 20,
   "metadata": {},
   "outputs": [
    {
     "data": {
      "text/html": [
       "<div class='gpresult'><h2>Messages</h2><div id='messages'>Start Time: Thursday, November 14, 2024 2:14:19 PM<br>Succeeded at Thursday, November 14, 2024 2:14:20 PM (Elapsed Time: 0.57 seconds)<br></div><div id = 'default' /></div></div>"
      ],
      "text/plain": [
       "<Result 'UtilityAHJ_EC_Union'>"
      ]
     },
     "execution_count": 20,
     "metadata": {},
     "output_type": "execute_result"
    }
   ],
   "source": [
    "arcpy.management.SelectLayerByAttribute(\n",
    "    in_layer_or_view=\"UtilityAHJ_EC_Union\",\n",
    "    selection_type=\"NEW_SELECTION\",\n",
    "    where_clause=\"owner = 'MidAmerican Energy' And name = ''\",\n",
    "    invert_where_clause=None\n",
    ")\n",
    "\n",
    "arcpy.management.CalculateField(\n",
    "    in_table=\"UtilityAHJ_EC_Union\",\n",
    "    field=\"weight\",\n",
    "    expression=\"0.67\",\n",
    "    expression_type=\"PYTHON3\",\n",
    "    code_block=\"\",\n",
    "    field_type=\"TEXT\",\n",
    "    enforce_domains=\"NO_ENFORCE_DOMAINS\"\n",
    ")"
   ]
  },
  {
   "cell_type": "code",
   "execution_count": null,
   "metadata": {},
   "outputs": [],
   "source": [
    "#weighted overlay\n",
    "arcpy.conversion.PolygonToRaster(\n",
    "    in_features=\"UtilityAHJ_EC_Union\",\n",
    "    value_field=\"weight\",\n",
    "    out_rasterdataset=r\"C:\\Mac\\Home\\Documents\\ArcGIS\\Projects\\GIS5571Final_Project\\MyProject2\\MyProject2.gdb\\UtilityAHJ_EC_Union_PolygonToRaster\",\n",
    "    cell_assignment=\"CELL_CENTER\",\n",
    "    priority_field=\"NONE\",\n",
    "    cellsize=1400,\n",
    "    build_rat=\"BUILD\"\n",
    ")"
   ]
  }
 ],
 "metadata": {
  "kernelspec": {
   "display_name": "ArcGISPro",
   "language": "Python",
   "name": "python3"
  },
  "language_info": {
   "file_extension": ".py",
   "name": "python",
   "version": "3"
  }
 },
 "nbformat": 4,
 "nbformat_minor": 2
}
