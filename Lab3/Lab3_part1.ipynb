{
 "cells": [
  {
   "cell_type": "code",
   "execution_count": 15,
   "metadata": {},
   "outputs": [],
   "source": [
    "#Connect to GIS\n",
    "from arcgis.gis import GIS\n",
    "gis = GIS(\"home\")"
   ]
  },
  {
   "cell_type": "code",
   "execution_count": 4,
   "metadata": {},
   "outputs": [],
   "source": [
    "#Packages\n",
    "import requests\n",
    "import pandas as pd\n",
    "import zipfile\n",
    "import os\n",
    "import io\n",
    "from arcgis import features, GeoAccessor, GeoSeriesAccessor\n",
    "from arcgis.gis import GIS\n",
    "from arcgis.features.analysis import join_features\n",
    "from arcgis.features import FeatureLayerCollection\n",
    "from arcgis.geometry import SpatialReference, Geometry\n",
    "import numpy as np"
   ]
  },
  {
   "cell_type": "code",
   "execution_count": 7,
   "metadata": {},
   "outputs": [],
   "source": [
    "origin_destination= r'C:\\Mac\\Home\\Documents\\ArcGIS\\Projects\\Lab3_Notebooks\\Lab3_Notebooks.gdb\\points_XYTableToPoint'"
   ]
  },
  {
   "cell_type": "code",
   "execution_count": 8,
   "metadata": {},
   "outputs": [],
   "source": [
    "directory=r'C:\\Mac\\Home\\Documents\\ArcGIS\\Projects\\Lab3_Notebooks\\Lab3_Notebooks.gdb'"
   ]
  },
  {
   "cell_type": "code",
   "execution_count": 9,
   "metadata": {},
   "outputs": [],
   "source": [
    "dem= r'C:\\Mac\\Home\\Documents\\ArcGIS\\Projects\\Lab3_Notebooks\\Lab3_Notebooks.gdb\\digital_elevation_model_Clip'\n",
    "lc= r'C:\\Mac\\Home\\Documents\\ArcGIS\\Projects\\Lab3_Notebooks\\Lab3_Notebooks.gdb\\NLCD_2019_Land_Cover_Clip'\n",
    "bndry = arcpy.ddd.RasterDomain(dem, \"aoi\", \"POLYGON\")\n",
    "\n",
    "# Clip Landcover to AOI\n",
    "out_lc =r'C:\\Mac\\Home\\Documents\\ArcGIS\\Projects\\Lab3_Notebooks\\Lab3_Notebooks.gdb\\landcover_aoi'\n",
    "\n",
    "lc_aoi = arcpy.management.Clip(lc, \"564958.63 4875662.12 577613.63 4889678.12\", out_lc, bndry, \"255\", \"ClippingGeometry\", \"MAINTAIN_EXTENT\")\n",
    "     "
   ]
  },
  {
   "cell_type": "code",
   "execution_count": 10,
   "metadata": {},
   "outputs": [],
   "source": [
    "# Reclassify Landcover\n",
    "lc_reclassify = arcpy.sa.Reclassify(lc_aoi, \"Value\", \"1 100 5;101 2;102 2;103 2;104 3;105 2;106 3;107 3;108 4;109 1;110 1\", \"DATA\")\n",
    "     "
   ]
  },
  {
   "cell_type": "code",
   "execution_count": 11,
   "metadata": {},
   "outputs": [],
   "source": [
    "# Reclassify Slope\n",
    "\n",
    "dem_reclassify = arcpy.sa.Reclassify(dem, \"VALUE\", \"0 2.084853 5;2.084853 3.822231 4;3.822231 6.602035 3;6.602035 18.416204 2;18.416204 88.606262 1\", \"DATA\") \n",
    "     "
   ]
  },
  {
   "cell_type": "code",
   "execution_count": 12,
   "metadata": {},
   "outputs": [],
   "source": [
    "weights = np.arange(0.1, 1.0, 0.1)\n",
    "for weight in weights:\n",
    "    slope_weight = round(weight, 1)\n",
    "    landcover_weight = round(1 - weight, 1)\n",
    "    \n",
    "    cost_surface = ((arcpy.Raster(dem_reclassify) * slope_weight) + \n",
    "                    (arcpy.Raster(lc_reclassify) * landcover_weight)) * -1 + 6\n",
    "\n",
    "    cost_path_name = fr\"costPath_{str(slope_weight)[2:3]}_slope_{str(landcover_weight)[2:3]}_landcover\"\n",
    "    cost_path = arcpy.sa.OptimalRegionConnections(origin_destination, cost_path_name, in_cost_raster=cost_surface)\n"
   ]
  },
  {
   "cell_type": "code",
   "execution_count": null,
   "metadata": {},
   "outputs": [],
   "source": []
  }
 ],
 "metadata": {
  "kernelspec": {
   "display_name": "ArcGISPro",
   "language": "Python",
   "name": "python3"
  },
  "language_info": {
   "file_extension": ".py",
   "name": "python",
   "version": "3"
  }
 },
 "nbformat": 4,
 "nbformat_minor": 2
}
