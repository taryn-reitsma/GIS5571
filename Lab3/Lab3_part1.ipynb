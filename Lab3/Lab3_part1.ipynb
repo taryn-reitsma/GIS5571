{
 "cells": [
  {
   "cell_type": "code",
   "execution_count": 1,
   "metadata": {},
   "outputs": [],
   "source": [
    "#Connect to GIS\n",
    "from arcgis.gis import GIS\n",
    "gis = GIS(\"home\")"
   ]
  },
  {
   "cell_type": "code",
   "execution_count": 2,
   "metadata": {},
   "outputs": [],
   "source": [
    "#Packages\n",
    "import requests\n",
    "import pandas as pd\n",
    "import zipfile\n",
    "import os\n",
    "import io\n",
    "from arcgis import features, GeoAccessor, GeoSeriesAccessor\n",
    "from arcgis.gis import GIS\n",
    "from arcgis.features.analysis import join_features\n",
    "from arcgis.features import FeatureLayerCollection\n",
    "from arcgis.geometry import SpatialReference, Geometry\n",
    "import numpy as np\n",
    "from arcpy.sa import Raster, Reclassify, CostPath, OptimalRegionConnections"
   ]
  },
  {
   "cell_type": "code",
   "execution_count": 3,
   "metadata": {},
   "outputs": [],
   "source": [
    "origin_destination= r'C:\\Mac\\Home\\Documents\\ArcGIS\\Projects\\Lab3_Notebooks\\Lab3_Notebooks.gdb\\DoryLocations'"
   ]
  },
  {
   "cell_type": "code",
   "execution_count": 4,
   "metadata": {},
   "outputs": [],
   "source": [
    "directory=r'C:\\Mac\\Home\\Documents\\ArcGIS\\Projects\\Lab3_Notebooks\\Lab3_Notebooks.gdb'"
   ]
  },
  {
   "cell_type": "code",
   "execution_count": 5,
   "metadata": {},
   "outputs": [],
   "source": [
    "dem= r'C:\\Mac\\Home\\Documents\\ArcGIS\\Projects\\Lab3_Notebooks\\Lab3_Notebooks.gdb\\digital_elevation_model_Clip'\n",
    "lc= r'C:\\Mac\\Home\\Documents\\ArcGIS\\Projects\\Lab3_Notebooks\\Lab3_Notebooks.gdb\\NLCD_2019_Land_Cover_Clip'\n",
    "bndry = arcpy.ddd.RasterDomain(dem, \"aoi\", \"POLYGON\")   "
   ]
  },
  {
   "cell_type": "code",
   "execution_count": 7,
   "metadata": {},
   "outputs": [],
   "source": [
    "# Clip Landcover to AOI\n",
    "out_lc =r'C:\\Mac\\Home\\Documents\\ArcGIS\\Projects\\Lab3_Notebooks\\Lab3_Notebooks.gdb\\landcover_aoi'\n",
    "\n",
    "lc_aoi = arcpy.management.Clip(lc, \"564958.63 4875662.12 577613.63 4889678.12\", out_lc, bndry, \"255\", \"ClippingGeometry\", \"MAINTAIN_EXTENT\")\n",
    "  "
   ]
  },
  {
   "cell_type": "code",
   "execution_count": 8,
   "metadata": {},
   "outputs": [],
   "source": [
    "# Reclassify Landcover\n",
    "lc_reclassify = arcpy.sa.Reclassify(lc_aoi, \"Value\", \"1 100 5;101 2;102 2;103 2;104 3;105 2;106 3;107 3;108 4;109 1;110 1\", \"DATA\")\n",
    "     "
   ]
  },
  {
   "cell_type": "code",
   "execution_count": 10,
   "metadata": {},
   "outputs": [
    {
     "ename": "RuntimeError",
     "evalue": "ERROR 010240: Could not save raster dataset to slope with output format FGDBR.",
     "output_type": "error",
     "traceback": [
      "\u001b[0;31m---------------------------------------------------------------------------\u001b[0m\n\u001b[0;31mRuntimeError\u001b[0m                              Traceback (most recent call last)",
      "In  \u001b[0;34m[10]\u001b[0m:\nLine \u001b[0;34m4\u001b[0m:     slope.save(out_name)\u001b[37m\u001b[39;49;00m\n",
      "\u001b[0;31mRuntimeError\u001b[0m: ERROR 010240: Could not save raster dataset to slope with output format FGDBR.\n\u001b[0;31m---------------------------------------------------------------------------\u001b[0m"
     ]
    }
   ],
   "source": [
    "# Calculate slope\n",
    "out_name= r\"C:\\Mac\\Home\\Documents\\ArcGIS\\Projects\\Lab3_Notebooks\\Lab3_Notebooks.gdb\\slope\"\n",
    "slope = arcpy.sa.Slope(dem, \"DEGREE\", 1, \"PLANAR\", \"METER\")\n",
    "slope.save(out_name)"
   ]
  },
  {
   "cell_type": "code",
   "execution_count": 11,
   "metadata": {},
   "outputs": [],
   "source": [
    "# Reclassify Slope\n",
    "slope_reclassify = arcpy.sa.Reclassify(slope, \"VALUE\", \"0 2.084853 5;2.084853 3.822231 4;3.822231 6.602035 3;6.602035 18.416204 2;18.416204 88.606262 1\", \"DATA\") \n",
    "     "
   ]
  },
  {
   "cell_type": "code",
   "execution_count": 12,
   "metadata": {
    "scrolled": true
   },
   "outputs": [],
   "source": [
    "# Path Number 1\n",
    "weightedslope = Raster(\"slope_reclassify\")*0.34 \n",
    "weightedlandcover = Raster(\"lc_reclassify\")*0.66\n"
   ]
  },
  {
   "cell_type": "code",
   "execution_count": 13,
   "metadata": {},
   "outputs": [],
   "source": [
    "combined_datasets = Raster(\"weightedslope\") + Raster(\"weightedlandcover\")"
   ]
  },
  {
   "cell_type": "code",
   "execution_count": null,
   "metadata": {},
   "outputs": [],
   "source": [
    "arcpy.sa.OptimalRegionConnections(\n",
    "    in_regions=\"DoryLocations\",\n",
    "    out_feature_class=r\"C:\\Mac\\Home\\Documents\\ArcGIS\\Projects\\Lab3_Notebooks\\Lab3_Notebooks.gdb\\Optimal_Dory1\",\n",
    "    in_barrier_data=None,\n",
    "    in_cost_raster=\"combined_datasets\",\n",
    "    out_neighbor_paths=None,\n",
    "    distance_method=\"PLANAR\",\n",
    "    connections_within_regions=\"GENERATE_CONNECTIONS\"\n",
    ")"
   ]
  },
  {
   "cell_type": "code",
   "execution_count": 16,
   "metadata": {},
   "outputs": [],
   "source": [
    "# Path number 2\n",
    "weightedslope = arcpy.Raster(\"slope_reclassify\") *0.80\n",
    "weightedlandcover = Raster(\"lc_reclassify\")*0.20\n",
    "combined_datasets = Raster(\"weightedslope\") + Raster(\"weightedlandcover\")"
   ]
  },
  {
   "cell_type": "code",
   "execution_count": 17,
   "metadata": {
    "scrolled": true
   },
   "outputs": [
    {
     "data": {
      "text/html": [
       "<div class='gpresult'><h2>Messages</h2><div id='messages'>Start Time: Thursday, November 21, 2024 12:36:21 PM<br>Optimal Region Connections: Input Features rasterized to C:\\\\Users\\\\TARYNR~1\\\\AppData\\\\Local\\\\Temp\\\\ArcGISProTemp10188\\\\{2C9D9E35-4E4C-4262-824E-A02270E6CD4C}101889836.crf.<br>Optimal Region Connections: Allocating analysis area to input regions.<br>Temporary data will be created in C:\\\\Users\\\\TARYNR~1\\\\AppData\\\\Local\\\\Temp\\\\ArcGISProTemp10188\\\\sab5972b4_f815_442a_9155_7718daac47bc<br>10,165 MB of temporary storage is estimated to be needed. 207,079 MB of storage is currently available.<br>Distributing operation across 2 parallel instances.<br>2024-11-21T12:36:30.679: Initialization Phase ...<br>2024-11-21T12:38:40.738: Iteration Phase ...<br>2024-11-21T12:42:53.387: Completion Phase ...<br>7,688 MB of temporary storage was used.<br>Optimal Region Connections: Connecting regions.<br>Temporary data will be created in C:\\\\Users\\\\TARYNR~1\\\\AppData\\\\Local\\\\Temp\\\\ArcGISProTemp10188\\\\s59ad2fec_fe95_4212_b70f_9bc5ce508f52<br>13,554 MB of temporary storage is estimated to be needed. 207,075 MB of storage is currently available.<br>2024-11-21T12:43:20.432: Initialization Phase ...<br>2024-11-21T12:45:48.726: Iteration Phase ...<br>2024-11-21T13:21:38.731: Completion Phase ...<br>10,250 MB of temporary storage was used.<br>Succeeded at Thursday, November 21, 2024 1:52:54 PM (Elapsed Time: 1 hours 16 minutes 32 seconds)<br></div><div id = 'default' /></div></div>"
      ],
      "text/plain": [
       "<geoprocessing server result object object at 0x0000025C2B5FE3A0>"
      ]
     },
     "execution_count": 17,
     "metadata": {},
     "output_type": "execute_result"
    }
   ],
   "source": [
    "arcpy.sa.OptimalRegionConnections(\n",
    "    in_regions=\"DoryLocations\",\n",
    "    out_feature_class=r\"C:\\Mac\\Home\\Documents\\ArcGIS\\Projects\\Lab3_Notebooks\\Lab3_Notebooks.gdb\\Optimal_DoryLoc2\",\n",
    "    in_barrier_data=None,\n",
    "    in_cost_raster=\"combined_datasets\",\n",
    "    out_neighbor_paths=None,\n",
    "    distance_method=\"PLANAR\",\n",
    "    connections_within_regions=\"GENERATE_CONNECTIONS\"\n",
    ")\n"
   ]
  },
  {
   "cell_type": "code",
   "execution_count": 22,
   "metadata": {},
   "outputs": [],
   "source": [
    "# Path number 3\n",
    "weightedlandcover = Raster(\"lc_reclassify\") *0.50\n",
    "weightedslope = Raster(\"slope_reclassify\")*0.50\n",
    "combined_datasets = Raster(\"weightedslope\") + Raster(\"weightedlandcover\")\n"
   ]
  },
  {
   "cell_type": "code",
   "execution_count": 23,
   "metadata": {},
   "outputs": [
    {
     "data": {
      "text/html": [
       "<div class='gpresult'><h2>Messages</h2><div id='messages'>Start Time: Thursday, November 21, 2024 4:09:01 PM<br>Optimal Region Connections: Input Features rasterized to C:\\\\Users\\\\TARYNR~1\\\\AppData\\\\Local\\\\Temp\\\\ArcGISProTemp10188\\\\{13CF9819-DB2B-46EF-9564-2B340A08F716}101889836.crf.<br>Optimal Region Connections: Allocating analysis area to input regions.<br>Temporary data will be created in C:\\\\Users\\\\TARYNR~1\\\\AppData\\\\Local\\\\Temp\\\\ArcGISProTemp10188\\\\sb4dffb30_f13a_4457_a139_59eefa9a22de<br>10,165 MB of temporary storage is estimated to be needed. 206,631 MB of storage is currently available.<br>Distributing operation across 2 parallel instances.<br>2024-11-21T16:09:16.286: Initialization Phase ...<br>2024-11-21T16:14:00.832: Iteration Phase ...<br>2024-11-21T16:22:52.366: Completion Phase ...<br>7,688 MB of temporary storage was used.<br>Optimal Region Connections: Connecting regions.<br>Temporary data will be created in C:\\\\Users\\\\TARYNR~1\\\\AppData\\\\Local\\\\Temp\\\\ArcGISProTemp10188\\\\s998b0852_a4aa_4eb7_8fb9_991d8c24896b<br>13,554 MB of temporary storage is estimated to be needed. 206,636 MB of storage is currently available.<br>2024-11-21T16:23:38.123: Initialization Phase ...<br>2024-11-21T16:28:24.949: Iteration Phase ...<br>2024-11-21T16:39:27.472: Completion Phase ...<br>10,250 MB of temporary storage was used.<br>Succeeded at Thursday, November 21, 2024 4:40:57 PM (Elapsed Time: 31 minutes 56 seconds)<br></div><div id = 'default' /></div></div>"
      ],
      "text/plain": [
       "<geoprocessing server result object object at 0x0000025C2B5FEBB0>"
      ]
     },
     "execution_count": 23,
     "metadata": {},
     "output_type": "execute_result"
    }
   ],
   "source": [
    "arcpy.sa.OptimalRegionConnections(\n",
    "    in_regions=\"DoryLocations\",\n",
    "    out_feature_class=r\"C:\\Mac\\Home\\Documents\\ArcGIS\\Projects\\Lab3_Notebooks\\Lab3_Notebooks.gdb\\Optimal_DoryLoc3\",\n",
    "    in_barrier_data=None,\n",
    "    in_cost_raster=\"combined_datasets\",\n",
    "    out_neighbor_paths=None,\n",
    "    distance_method=\"PLANAR\",\n",
    "    connections_within_regions=\"GENERATE_CONNECTIONS\"\n",
    ")"
   ]
  },
  {
   "cell_type": "code",
   "execution_count": null,
   "metadata": {},
   "outputs": [],
   "source": []
  }
 ],
 "metadata": {
  "kernelspec": {
   "display_name": "ArcGISPro",
   "language": "Python",
   "name": "python3"
  },
  "language_info": {
   "file_extension": ".py",
   "name": "python",
   "version": "3"
  }
 },
 "nbformat": 4,
 "nbformat_minor": 2
}
