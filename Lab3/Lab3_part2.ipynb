{
 "cells": [
  {
   "cell_type": "code",
   "execution_count": 1,
   "metadata": {},
   "outputs": [],
   "source": [
    "#Connect to GIS\n",
    "from arcgis.gis import GIS\n",
    "gis = GIS(\"home\")"
   ]
  },
  {
   "cell_type": "code",
   "execution_count": 2,
   "metadata": {},
   "outputs": [],
   "source": [
    "#Packages\n",
    "import requests\n",
    "import pandas as pd\n",
    "import zipfile\n",
    "import os\n",
    "import io\n",
    "from arcgis import features, GeoAccessor, GeoSeriesAccessor\n",
    "from arcgis.gis import GIS\n",
    "from arcgis.features.analysis import join_features\n",
    "from arcgis.features import FeatureLayerCollection\n",
    "from arcgis.geometry import SpatialReference, Geometry"
   ]
  },
  {
   "cell_type": "code",
   "execution_count": 3,
   "metadata": {},
   "outputs": [],
   "source": [
    "directory=r'C:\\Mac\\Home\\Documents\\ArcGIS\\Projects\\Lab3_Notebooks\\Lab3_Notebooks.gdb'"
   ]
  },
  {
   "cell_type": "code",
   "execution_count": 4,
   "metadata": {},
   "outputs": [],
   "source": [
    "#NDAWN temp data\n",
    "url= 'https://ndawn.ndsu.nodak.edu/table.csv?station=78&station=111&station=98&station=162&station=174&station=142&station=164&station=138&station=161&station=9&station=160&station=224&station=159&station=10&station=229&station=118&station=56&station=165&station=11&station=12&station=58&station=13&station=84&station=218&station=55&station=179&station=7&station=186&station=87&station=14&station=15&station=96&station=191&station=16&station=210&station=201&station=137&station=124&station=143&station=17&station=85&station=226&station=140&station=134&station=18&station=136&station=219&station=65&station=104&station=99&station=192&station=19&station=227&station=129&station=20&station=101&station=166&station=178&station=81&station=21&station=97&station=22&station=75&station=184&station=2&station=211&station=172&station=139&station=158&station=23&station=157&station=220&station=62&station=86&station=24&station=89&station=126&station=223&station=167&station=93&station=183&station=90&station=25&station=205&station=83&station=107&station=156&station=77&station=26&station=155&station=70&station=127&station=144&station=27&station=173&station=132&station=28&station=195&station=185&station=29&station=30&station=154&station=31&station=187&station=102&station=32&station=119&station=4&station=217&station=80&station=33&station=59&station=153&station=105&station=82&station=225&station=34&station=198&station=72&station=135&station=35&station=76&station=120&station=209&station=141&station=109&station=36&station=207&station=79&station=193&station=71&station=212&station=37&station=38&station=189&station=39&station=130&station=73&station=188&station=40&station=41&station=54&station=228&station=69&station=194&station=145&station=214&station=113&station=128&station=42&station=43&station=103&station=171&station=116&station=196&station=88&station=114&station=3&station=163&station=200&station=216&station=64&station=115&station=168&station=67&station=175&station=146&station=170&station=197&station=44&station=206&station=133&station=106&station=100&station=121&station=45&station=46&station=61&station=66&station=181&station=74&station=213&station=60&station=199&station=125&station=176&station=177&station=8&station=180&station=204&station=47&station=221&station=122&station=108&station=5&station=152&station=48&station=151&station=147&station=68&station=169&station=49&station=50&station=91&station=182&station=117&station=63&station=150&station=51&station=6&station=222&station=52&station=92&station=112&station=131&station=123&station=95&station=53&station=203&station=190&station=208&station=57&station=149&station=148&station=202&station=215&station=110&variable=ddavt&year=2024&ttype=daily&quick_pick=30_d&begin_date=2024-11-09&end_date=2024-11-09'\n",
    "\n",
    "#NDAWN API Call\n",
    "request=requests.get(url)\n",
    "response=request.content\n",
    "df=pd.read_csv(io.StringIO(response.decode('utf-8')), skiprows=[0,1,2,4])\n",
    "df.head()\n",
    "df.drop(['Avg Temp Flag'], axis=1, inplace=True)"
   ]
  },
  {
   "cell_type": "code",
   "execution_count": 6,
   "metadata": {},
   "outputs": [
    {
     "data": {
      "text/plain": [
       "'C:\\\\Mac\\\\Home\\\\Documents\\\\ArcGIS\\\\Projects\\\\Lab3_Notebooks\\\\Lab3_Notebooks.gdb\\\\ndawn_fc'"
      ]
     },
     "execution_count": 6,
     "metadata": {},
     "output_type": "execute_result"
    }
   ],
   "source": [
    "#df to feature class\n",
    "sdf = GeoAccessor.from_xy(df, 'Longitude', 'Latitude')\n",
    "out_name = \"ndawn_fc\"\n",
    "sdf.spatial.to_featureclass(location=f\"{directory}/{out_name}\")"
   ]
  },
  {
   "cell_type": "code",
   "execution_count": 11,
   "metadata": {},
   "outputs": [
    {
     "data": {
      "text/html": [
       "<div>\n",
       "<style scoped>\n",
       "    .dataframe tbody tr th:only-of-type {\n",
       "        vertical-align: middle;\n",
       "    }\n",
       "\n",
       "    .dataframe tbody tr th {\n",
       "        vertical-align: top;\n",
       "    }\n",
       "\n",
       "    .dataframe thead th {\n",
       "        text-align: right;\n",
       "    }\n",
       "</style>\n",
       "<table border=\"1\" class=\"dataframe\">\n",
       "  <thead>\n",
       "    <tr style=\"text-align: right;\">\n",
       "      <th></th>\n",
       "      <th>Latitude</th>\n",
       "      <th>Longitude</th>\n",
       "      <th>Elevation</th>\n",
       "      <th>Year</th>\n",
       "      <th>Month</th>\n",
       "      <th>Day</th>\n",
       "      <th>Avg Temp</th>\n",
       "    </tr>\n",
       "    <tr>\n",
       "      <th>Station Name</th>\n",
       "      <th></th>\n",
       "      <th></th>\n",
       "      <th></th>\n",
       "      <th></th>\n",
       "      <th></th>\n",
       "      <th></th>\n",
       "      <th></th>\n",
       "    </tr>\n",
       "  </thead>\n",
       "  <tbody>\n",
       "    <tr>\n",
       "      <th>Ada</th>\n",
       "      <td>47.32119</td>\n",
       "      <td>-96.51406</td>\n",
       "      <td>910</td>\n",
       "      <td>2024</td>\n",
       "      <td>11</td>\n",
       "      <td>30</td>\n",
       "      <td>42.748633</td>\n",
       "    </tr>\n",
       "    <tr>\n",
       "      <th>Adams</th>\n",
       "      <td>48.49988</td>\n",
       "      <td>-98.07588</td>\n",
       "      <td>1580</td>\n",
       "      <td>2024</td>\n",
       "      <td>11</td>\n",
       "      <td>30</td>\n",
       "      <td>39.551500</td>\n",
       "    </tr>\n",
       "    <tr>\n",
       "      <th>Alamo</th>\n",
       "      <td>48.54652</td>\n",
       "      <td>-103.47186</td>\n",
       "      <td>2157</td>\n",
       "      <td>2024</td>\n",
       "      <td>11</td>\n",
       "      <td>30</td>\n",
       "      <td>37.910967</td>\n",
       "    </tr>\n",
       "    <tr>\n",
       "      <th>Alexander</th>\n",
       "      <td>47.75056</td>\n",
       "      <td>-103.73358</td>\n",
       "      <td>2202</td>\n",
       "      <td>2024</td>\n",
       "      <td>11</td>\n",
       "      <td>30</td>\n",
       "      <td>39.761567</td>\n",
       "    </tr>\n",
       "    <tr>\n",
       "      <th>Alvarado</th>\n",
       "      <td>48.24594</td>\n",
       "      <td>-97.02153</td>\n",
       "      <td>809</td>\n",
       "      <td>2024</td>\n",
       "      <td>11</td>\n",
       "      <td>30</td>\n",
       "      <td>41.400133</td>\n",
       "    </tr>\n",
       "  </tbody>\n",
       "</table>\n",
       "</div>"
      ],
      "text/plain": [
       "              Latitude  Longitude  Elevation  Year  Month  Day   Avg Temp\n",
       "Station Name                                                             \n",
       "Ada           47.32119  -96.51406        910  2024     11   30  42.748633\n",
       "Adams         48.49988  -98.07588       1580  2024     11   30  39.551500\n",
       "Alamo         48.54652 -103.47186       2157  2024     11   30  37.910967\n",
       "Alexander     47.75056 -103.73358       2202  2024     11   30  39.761567\n",
       "Alvarado      48.24594  -97.02153        809  2024     11   30  41.400133"
      ]
     },
     "execution_count": 11,
     "metadata": {},
     "output_type": "execute_result"
    }
   ],
   "source": [
    "new_sedf = sdf.groupby('Station Name').agg({'Latitude': 'mean', 'Longitude': 'mean', 'Elevation': 'max', 'Year': 'max', 'Month': 'max', 'Day': 'count', 'Avg Temp': 'mean'})\n",
    "new_sedf.head()"
   ]
  },
  {
   "cell_type": "code",
   "execution_count": 12,
   "metadata": {},
   "outputs": [
    {
     "data": {
      "text/plain": [
       "'C:\\\\Mac\\\\Home\\\\Documents\\\\ArcGIS\\\\Projects\\\\Lab3_Notebooks\\\\Lab3_Notebooks.gdb\\\\ndawn_updated'"
      ]
     },
     "execution_count": 12,
     "metadata": {},
     "output_type": "execute_result"
    }
   ],
   "source": [
    "new_sedf = GeoAccessor.from_xy(new_sedf, 'Longitude', 'Latitude')\n",
    "out_name= \"ndawn_updated\"\n",
    "new_sedf.spatial.to_featureclass(location=f\"{directory}/{out_name}\")"
   ]
  },
  {
   "cell_type": "code",
   "execution_count": 13,
   "metadata": {},
   "outputs": [],
   "source": [
    "#IDW\n",
    "with arcpy.EnvManager(scratchWorkspace=r\"C:\\Mac\\Home\\Documents\\ArcGIS\\Projects\\Lab3_Notebooks\\Lab3_Notebooks.gdb\"):\n",
    "    out_raster = arcpy.sa.Idw(\n",
    "        in_point_features=\"ndawn_updated\",\n",
    "        z_field=\"avg_temp\",\n",
    "        cell_size=0.021010908,\n",
    "        power=2,\n",
    "        search_radius=\"VARIABLE 12\",\n",
    "        in_barrier_polyline_features=None\n",
    "    )\n",
    "    out_raster.save(r\"C:\\Mac\\Home\\Documents\\ArcGIS\\Projects\\Lab3_Notebooks\\Lab3_Notebooks.gdb\\idw_ndawn\")"
   ]
  },
  {
   "cell_type": "code",
   "execution_count": 14,
   "metadata": {},
   "outputs": [],
   "source": [
    "#Ordinary Kriging\n",
    "with arcpy.EnvManager(scratchWorkspace=r\"C:\\Mac\\Home\\Documents\\ArcGIS\\Projects\\Lab3_Notebooks\\Lab3_Notebooks.gdb\"):\n",
    "    out_surface_raster = arcpy.sa.Kriging(\n",
    "        in_point_features=\"ndawn_updated\",\n",
    "        z_field=\"avg_temp\",\n",
    "        kriging_model=\"Spherical # # # #\",\n",
    "        cell_size=0.021010908,\n",
    "        search_radius=\"VARIABLE 12\",\n",
    "        out_variance_prediction_raster=None\n",
    "    )\n",
    "    out_surface_raster.save(r\"C:\\Mac\\Home\\Documents\\ArcGIS\\Projects\\Lab3_Notebooks\\Lab3_Notebooks.gdb\\kriging_ndawn\")"
   ]
  },
  {
   "cell_type": "code",
   "execution_count": 15,
   "metadata": {},
   "outputs": [
    {
     "data": {
      "text/html": [
       "<div class='gpresult'><h2>Messages</h2><div id='messages'>Start Time: Wednesday, November 20, 2024 11:40:53 AM<br>Succeeded at Wednesday, November 20, 2024 11:41:27 AM (Elapsed Time: 34.01 seconds)<br></div><div id = 'default' /></div></div>"
      ],
      "text/plain": [
       "<Result ''>"
      ]
     },
     "execution_count": 15,
     "metadata": {},
     "output_type": "execute_result"
    }
   ],
   "source": [
    "#LPI\n",
    "arcpy.ga.LocalPolynomialInterpolation(\n",
    "    in_features=\"ndawn_updated\",\n",
    "    z_field=\"avg_temp\",\n",
    "    out_ga_layer=None,\n",
    "    out_raster=r\"C:\\Mac\\Home\\Documents\\ArcGIS\\Projects\\Lab3_Notebooks\\Lab3_Notebooks.gdb\\lpi_ndawn\",\n",
    "    cell_size=0.021010908,\n",
    "    power=1,\n",
    "    search_neighborhood=\"NBRTYPE=Standard S_MAJOR=3.42563109432527 S_MINOR=3.42563109432527 ANGLE=0 NBR_MAX=15 NBR_MIN=10 SECTOR_TYPE=ONE_SECTOR\",\n",
    "    kernel_function=\"EXPONENTIAL\",\n",
    "    bandwidth=None,\n",
    "    use_condition_number=\"NO_USE_CONDITION_NUMBER\",\n",
    "    condition_number=None,\n",
    "    weight_field=None,\n",
    "    output_type=\"PREDICTION\"\n",
    ")"
   ]
  }
 ],
 "metadata": {
  "kernelspec": {
   "display_name": "ArcGISPro",
   "language": "Python",
   "name": "python3"
  },
  "language_info": {
   "file_extension": ".py",
   "name": "python",
   "version": "3"
  }
 },
 "nbformat": 4,
 "nbformat_minor": 2
}
