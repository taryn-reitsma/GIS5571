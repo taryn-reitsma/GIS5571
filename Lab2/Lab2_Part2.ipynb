{
 "cells": [
  {
   "cell_type": "code",
   "execution_count": 37,
   "metadata": {},
   "outputs": [],
   "source": [
    "#Connect to GIS\n",
    "from arcgis.gis import GIS\n",
    "gis = GIS(\"home\")"
   ]
  },
  {
   "cell_type": "code",
   "execution_count": 54,
   "metadata": {},
   "outputs": [],
   "source": [
    "#Packages\n",
    "import requests\n",
    "import pandas as pd\n",
    "import zipfile\n",
    "import os\n",
    "import io\n",
    "import arcpy\n",
    "import subprocess"
   ]
  },
  {
   "cell_type": "code",
   "execution_count": 39,
   "metadata": {},
   "outputs": [],
   "source": [
    "request = requests.get('https://gisdata.mn.gov/api/3/action/package_show?id=base-landcover-minnesota')\n",
    "response = request.json()\n",
    "df=pd.json_normalize(response)"
   ]
  },
  {
   "cell_type": "code",
   "execution_count": 43,
   "metadata": {},
   "outputs": [],
   "source": [
    "directory='C:\\Mac\\Home\\Documents\\ArcGIS\\Lab2Data'\n",
    "zip_url= response['result']['resources'][2]['url']\n",
    "zip_response= requests.get(zip_url)\n",
    "zip_path ='C:\\\\Mac\\\\Home\\\\Documents\\\\ArcGIS\\\\Lab2Data\\\\base-landcover-minnesota.zip'\n",
    "\n",
    "\n",
    "with open(zip_path, 'wb') as file:\n",
    "    file.write(zip_response.content)\n",
    "    \n",
    "with zipfile.ZipFile(zip_path, 'r') as zip_ref:\n",
    "    zip_ref.extractall(directory)"
   ]
  },
  {
   "cell_type": "code",
   "execution_count": 44,
   "metadata": {},
   "outputs": [
    {
     "data": {
      "text/html": [
       "<div class='gpresult'><h2>Messages</h2><div id='messages'>Start Time: Sunday, October 27, 2024 5:17:35 PM<br>Successfully converted:  C:\\\\Mac\\\\Home\\\\Documents\\\\ArcGIS\\\\Lab2Data\\\\landcover_impervious_statewide2013_v2.tif To C:\\\\Mac\\\\Home\\\\Documents\\\\ArcGIS\\\\Projects\\\\Lab2_Notebooks\\\\Lab2_Notebooks.gdb\\\\landcover_impervious_statewide2013_v2<br>Succeeded at Sunday, October 27, 2024 5:23:54 PM (Elapsed Time: 6 minutes 19 seconds)<br></div><div id = 'default' /></div></div>"
      ],
      "text/plain": [
       "<Result ''>"
      ]
     },
     "execution_count": 44,
     "metadata": {},
     "output_type": "execute_result"
    }
   ],
   "source": [
    "arcpy.conversion.RasterToGeodatabase(\n",
    "    Input_Rasters=r\"C:\\Mac\\Home\\Documents\\ArcGIS\\Lab2Data\\landcover_impervious_statewide2013_v2.tif\",\n",
    "    Output_Geodatabase= gdb,\n",
    "    Configuration_Keyword=\"\"\n",
    ")"
   ]
  },
  {
   "cell_type": "code",
   "execution_count": 62,
   "metadata": {},
   "outputs": [
    {
     "name": "stdout",
     "output_type": "stream",
     "text": [
      "Downloading https://resources.gisdata.mn.gov/pub/data/elevation/lidar/county/wabasha/laz/4342-28-59.laz\n",
      "Downloaded C:\\Mac\\Home\\Documents\\ArcGIS\\Lab2Data\\4342-28-59.laz\n",
      "Downloading https://resources.gisdata.mn.gov/pub/data/elevation/lidar/county/wabasha/laz/4342-28-60.laz\n",
      "Downloaded C:\\Mac\\Home\\Documents\\ArcGIS\\Lab2Data\\4342-28-60.laz\n",
      "Downloading https://resources.gisdata.mn.gov/pub/data/elevation/lidar/county/wabasha/laz/4342-28-61.laz\n",
      "Downloaded C:\\Mac\\Home\\Documents\\ArcGIS\\Lab2Data\\4342-28-61.laz\n",
      "Downloading https://resources.gisdata.mn.gov/pub/data/elevation/lidar/county/wabasha/laz/4342-28-62.laz\n",
      "Downloaded C:\\Mac\\Home\\Documents\\ArcGIS\\Lab2Data\\4342-28-62.laz\n",
      "Downloading https://resources.gisdata.mn.gov/pub/data/elevation/lidar/county/wabasha/laz/4342-29-59.laz\n",
      "Downloaded C:\\Mac\\Home\\Documents\\ArcGIS\\Lab2Data\\4342-29-59.laz\n",
      "Downloading https://resources.gisdata.mn.gov/pub/data/elevation/lidar/county/wabasha/laz/4342-29-60.laz\n",
      "Downloaded C:\\Mac\\Home\\Documents\\ArcGIS\\Lab2Data\\4342-29-60.laz\n",
      "Downloading https://resources.gisdata.mn.gov/pub/data/elevation/lidar/county/wabasha/laz/4342-29-61.laz\n",
      "Downloaded C:\\Mac\\Home\\Documents\\ArcGIS\\Lab2Data\\4342-29-61.laz\n",
      "Downloading https://resources.gisdata.mn.gov/pub/data/elevation/lidar/county/wabasha/laz/4342-29-62.laz\n",
      "Downloaded C:\\Mac\\Home\\Documents\\ArcGIS\\Lab2Data\\4342-29-62.laz\n",
      "Downloading https://resources.gisdata.mn.gov/pub/data/elevation/lidar/county/olmsted/laz/4342-29-59.laz\n",
      "Downloaded C:\\Mac\\Home\\Documents\\ArcGIS\\Lab2Data\\4342-29-59.laz\n",
      "Downloading https://resources.gisdata.mn.gov/pub/data/elevation/lidar/county/olmsted/laz/4342-29-60.laz\n",
      "Downloaded C:\\Mac\\Home\\Documents\\ArcGIS\\Lab2Data\\4342-29-60.laz\n",
      "Downloading https://resources.gisdata.mn.gov/pub/data/elevation/lidar/county/olmsted/laz/4342-29-61.laz\n",
      "Downloaded C:\\Mac\\Home\\Documents\\ArcGIS\\Lab2Data\\4342-29-61.laz\n",
      "Downloading https://resources.gisdata.mn.gov/pub/data/elevation/lidar/county/olmsted/laz/4342-29-62.laz\n",
      "Downloaded C:\\Mac\\Home\\Documents\\ArcGIS\\Lab2Data\\4342-29-62.laz\n",
      "Downloading https://resources.gisdata.mn.gov/pub/data/elevation/lidar/county/olmsted/laz/4342-30-59.laz\n",
      "Downloaded C:\\Mac\\Home\\Documents\\ArcGIS\\Lab2Data\\4342-30-59.laz\n",
      "Downloading https://resources.gisdata.mn.gov/pub/data/elevation/lidar/county/olmsted/laz/4342-30-60.laz\n",
      "Downloaded C:\\Mac\\Home\\Documents\\ArcGIS\\Lab2Data\\4342-30-60.laz\n",
      "Downloading https://resources.gisdata.mn.gov/pub/data/elevation/lidar/county/olmsted/laz/4342-30-61.laz\n",
      "Downloaded C:\\Mac\\Home\\Documents\\ArcGIS\\Lab2Data\\4342-30-61.laz\n",
      "Downloading https://resources.gisdata.mn.gov/pub/data/elevation/lidar/county/olmsted/laz/4342-30-62.laz\n",
      "Downloaded C:\\Mac\\Home\\Documents\\ArcGIS\\Lab2Data\\4342-30-62.laz\n",
      "Downloading https://resources.gisdata.mn.gov/pub/data/elevation/lidar/county/winona/laz/4342-28-63.laz\n",
      "Downloaded C:\\Mac\\Home\\Documents\\ArcGIS\\Lab2Data\\4342-28-63.laz\n",
      "Downloading https://resources.gisdata.mn.gov/pub/data/elevation/lidar/county/winona/laz/4342-29-63.laz\n",
      "Downloaded C:\\Mac\\Home\\Documents\\ArcGIS\\Lab2Data\\4342-29-63.laz\n",
      "Downloading https://resources.gisdata.mn.gov/pub/data/elevation/lidar/county/winona/laz/4342-30-63.laz\n",
      "Downloaded C:\\Mac\\Home\\Documents\\ArcGIS\\Lab2Data\\4342-30-63.laz\n",
      "Downloading https://resources.gisdata.mn.gov/pub/data/elevation/lidar/county/winona/laz/4342-31-63.laz\n",
      "Downloaded C:\\Mac\\Home\\Documents\\ArcGIS\\Lab2Data\\4342-31-63.laz\n"
     ]
    }
   ],
   "source": [
    "county_tiles = {\n",
    "    'wabasha': ['4342-28-59', '4342-28-60', '4342-28-61', '4342-28-62', '4342-29-59', '4342-29-60', '4342-29-61', '4342-29-62'],\n",
    "    'olmsted': ['4342-29-59', '4342-29-60', '4342-29-61', '4342-29-62', '4342-30-59', '4342-30-60', '4342-30-61', '4342-30-62'],\n",
    "    'winona': ['4342-28-63', '4342-29-63', '4342-30-63', '4342-31-63']\n",
    "}\n",
    "\n",
    "\n",
    "def request_tiles(county_tiles):\n",
    "    base_url = \"https://resources.gisdata.mn.gov/pub/data/elevation/lidar/county/{county}/laz/{tile}.laz\"\n",
    "\n",
    "    for county, tiles in county_tiles.items():\n",
    "        for tile in tiles:\n",
    "            url = base_url.format(county=county, tile=tile)\n",
    "            laz_file = os.path.join(directory, f\"{tile}.laz\")\n",
    "            las_file = os.path.join(directory, f\"{tile}.las\")\n",
    "\n",
    "            # Download LAZ file\n",
    "            print(f\"Downloading {url}\")\n",
    "            response = requests.get(url)\n",
    "            if response.status_code == 200:\n",
    "                with open(laz_file, 'wb') as file:\n",
    "                    file.write(response.content)\n",
    "                print(f\"Downloaded {laz_file}\")\n",
    "                \n",
    "# Run the function\n",
    "request_tiles(county_tiles)"
   ]
  },
  {
   "cell_type": "code",
   "execution_count": 66,
   "metadata": {},
   "outputs": [
    {
     "ename": "ExecuteError",
     "evalue": "Failed to execute. Parameters are not valid.\nERROR 000732: Input LAS: Dataset C:\\Mac\\Home\\Documents\\ArcGIS\\Lab2Data\\4342-28-59.laz does not exist or is not supported\nFailed to execute (ConvertLas).\n",
     "output_type": "error",
     "traceback": [
      "\u001b[0;31m---------------------------------------------------------------------------\u001b[0m\n\u001b[0;31mExecuteError\u001b[0m                              Traceback (most recent call last)",
      "In  \u001b[0;34m[66]\u001b[0m:\nLine \u001b[0;34m1\u001b[0m:     arcpy.conversion.ConvertLas(\u001b[37m\u001b[39;49;00m\n",
      "File \u001b[0;34mC:\\Program Files\\ArcGIS\\Pro\\Resources\\ArcPy\\arcpy\\conversion.py\u001b[0m, in \u001b[0;32mConvertLas\u001b[0m:\nLine \u001b[0;34m1431\u001b[0m:  \u001b[34mraise\u001b[39;49;00m e\u001b[37m\u001b[39;49;00m\n",
      "File \u001b[0;34mC:\\Program Files\\ArcGIS\\Pro\\Resources\\ArcPy\\arcpy\\conversion.py\u001b[0m, in \u001b[0;32mConvertLas\u001b[0m:\nLine \u001b[0;34m1428\u001b[0m:  retval = convertArcObjectToPythonObject(gp.ConvertLas_conversion(*gp_fixargs((in_las, target_folder, file_version, point_format, compression, las_options, out_las_dataset, define_coordinate_system, in_coordinate_system), \u001b[34mTrue\u001b[39;49;00m)))\u001b[37m\u001b[39;49;00m\n",
      "File \u001b[0;34mC:\\Program Files\\ArcGIS\\Pro\\Resources\\ArcPy\\arcpy\\geoprocessing\\_base.py\u001b[0m, in \u001b[0;32m<lambda>\u001b[0m:\nLine \u001b[0;34m512\u001b[0m:   \u001b[34mreturn\u001b[39;49;00m \u001b[34mlambda\u001b[39;49;00m *args: val(*gp_fixargs(args, \u001b[34mTrue\u001b[39;49;00m))\u001b[37m\u001b[39;49;00m\n",
      "\u001b[0;31mExecuteError\u001b[0m: Failed to execute. Parameters are not valid.\nERROR 000732: Input LAS: Dataset C:\\Mac\\Home\\Documents\\ArcGIS\\Lab2Data\\4342-28-59.laz does not exist or is not supported\nFailed to execute (ConvertLas).\n\n\u001b[0;31m---------------------------------------------------------------------------\u001b[0m"
     ]
    }
   ],
   "source": [
    "arcpy.conversion.ConvertLas(\n",
    "    in_las=r\"C:\\Mac\\Home\\Documents\\ArcGIS\\Lab2Data\\4342-28-59.laz\",\n",
    "    target_folder=r\"C:\\Mac\\Home\\Documents\\ArcGIS\\Projects\\Lab2_Notebooks\",\n",
    "    file_version=\"1.4\",\n",
    "    point_format=\"6\",\n",
    "    compression=\"NO_COMPRESSION\",\n",
    "    las_options=\"REARRANGE_POINTS\",\n",
    "    out_las_dataset=None,\n",
    "    define_coordinate_system=\"ALL_FILES\",\n",
    "    in_coordinate_system='PROJCS[\"NAD_1983_2011_UTM_Zone_15N\",GEOGCS[\"GCS_NAD_1983_2011\",DATUM[\"D_NAD_1983_2011\",SPHEROID[\"GRS_1980\",6378137.0,298.257222101]],PRIMEM[\"Greenwich\",0.0],UNIT[\"Degree\",0.0174532925199433]],PROJECTION[\"Transverse_Mercator\"],PARAMETER[\"False_Easting\",500000.0],PARAMETER[\"False_Northing\",0.0],PARAMETER[\"Central_Meridian\",-93.0],PARAMETER[\"Scale_Factor\",0.9996],PARAMETER[\"Latitude_Of_Origin\",0.0],UNIT[\"Meter\",1.0]]'\n",
    ")"
   ]
  },
  {
   "cell_type": "code",
   "execution_count": null,
   "metadata": {},
   "outputs": [],
   "source": []
  }
 ],
 "metadata": {
  "kernelspec": {
   "display_name": "ArcGISPro",
   "language": "Python",
   "name": "python3"
  },
  "language_info": {
   "file_extension": ".py",
   "name": "python",
   "version": "3"
  }
 },
 "nbformat": 4,
 "nbformat_minor": 2
}
