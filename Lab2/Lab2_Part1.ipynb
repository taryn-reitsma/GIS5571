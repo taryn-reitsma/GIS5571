{
 "cells": [
  {
   "cell_type": "code",
   "execution_count": 2,
   "metadata": {},
   "outputs": [],
   "source": [
    "#Connect to GIS\n",
    "from arcgis.gis import GIS\n",
    "gis = GIS(\"home\")"
   ]
  },
  {
   "cell_type": "code",
   "execution_count": 3,
   "metadata": {},
   "outputs": [],
   "source": [
    "import requests\n",
    "import pandas as pd\n",
    "import zipfile\n",
    "import os\n",
    "import io\n",
    "import arcpy"
   ]
  },
  {
   "cell_type": "code",
   "execution_count": 4,
   "metadata": {},
   "outputs": [],
   "source": [
    "directory='C:\\Mac\\Home\\Documents\\ArcGIS\\Lab2Data'\n",
    "url = r\"https://resources.gisdata.mn.gov/pub/data/elevation/lidar/examples/lidar_sample/las/4342-12-05.las\"\n",
    "in_las_dataset = requests.get(url)\n",
    "f= open(r\"C:\\Mac\\Home\\Documents\\ArcGIS\\Projects\\Lab2_Notebooks\\4342-12-05.las\", 'wb')\n",
    "f.write(in_las_dataset.content)\n",
    "f.close()"
   ]
  },
  {
   "cell_type": "code",
   "execution_count": 5,
   "metadata": {},
   "outputs": [
    {
     "data": {
      "text/html": [
       "<div class='gpresult'><h2>Messages</h2><div id='messages'>Start Time: Wednesday, October 23, 2024 7:52:18 AM<br>Succeeded at Wednesday, October 23, 2024 7:52:42 AM (Elapsed Time: 23.63 seconds)<br></div><div id = 'default' /></div></div>"
      ],
      "text/plain": [
       "<Result 'C:\\\\Mac\\\\Home\\\\Documents\\\\ArcGIS\\\\Projects\\\\Lab2_Notebooks\\\\example.tin'>"
      ]
     },
     "execution_count": 5,
     "metadata": {},
     "output_type": "execute_result"
    }
   ],
   "source": [
    "out_tin = 'C:\\Mac\\Home\\Documents\\ArcGIS\\Projects\\Lab2_Notebooks\\example.tin'\n",
    "arcpy.ddd.LasDatasetToTin('C:\\Mac\\Home\\Documents\\ArcGIS\\Projects\\Lab2_Notebooks\\4342-12-05.las', out_tin, thinning_type= 'random', thinning_method='percent', thinning_value= 30)"
   ]
  },
  {
   "cell_type": "code",
   "execution_count": 6,
   "metadata": {},
   "outputs": [
    {
     "ename": "ExecuteError",
     "evalue": "ERROR 000258: Output C:\\Mac\\Home\\Documents\\ArcGIS\\Projects\\Lab2_Notebooks\\Lab2_Notebooks.gdb\\las_dem already exists\nCannot acquire a schema lock because of an existing lock.\nFailed to execute (LasDatasetToRaster).\n",
     "output_type": "error",
     "traceback": [
      "\u001b[0;31m---------------------------------------------------------------------------\u001b[0m\n\u001b[0;31mExecuteError\u001b[0m                              Traceback (most recent call last)",
      "In  \u001b[0;34m[6]\u001b[0m:\nLine \u001b[0;34m1\u001b[0m:     arcpy.conversion.LasDatasetToRaster(\u001b[33m'\u001b[39;49;00m\u001b[33mC:\u001b[39;49;00m\u001b[33m\\\u001b[39;49;00m\u001b[33mMac\u001b[39;49;00m\u001b[33m\\\u001b[39;49;00m\u001b[33mHome\u001b[39;49;00m\u001b[33m\\\u001b[39;49;00m\u001b[33mDocuments\u001b[39;49;00m\u001b[33m\\\u001b[39;49;00m\u001b[33mArcGIS\u001b[39;49;00m\u001b[33m\\\u001b[39;49;00m\u001b[33mProjects\u001b[39;49;00m\u001b[33m\\\u001b[39;49;00m\u001b[33mLab2_Notebooks\u001b[39;49;00m\u001b[33m\\434\u001b[39;49;00m\u001b[33m2-12-05.las\u001b[39;49;00m\u001b[33m'\u001b[39;49;00m, \u001b[33m'\u001b[39;49;00m\u001b[33mlas_dem\u001b[39;49;00m\u001b[33m'\u001b[39;49;00m)\u001b[37m\u001b[39;49;00m\n",
      "File \u001b[0;34mC:\\Program Files\\ArcGIS\\Pro\\Resources\\ArcPy\\arcpy\\conversion.py\u001b[0m, in \u001b[0;32mLasDatasetToRaster\u001b[0m:\nLine \u001b[0;34m1537\u001b[0m:  \u001b[34mraise\u001b[39;49;00m e\u001b[37m\u001b[39;49;00m\n",
      "File \u001b[0;34mC:\\Program Files\\ArcGIS\\Pro\\Resources\\ArcPy\\arcpy\\conversion.py\u001b[0m, in \u001b[0;32mLasDatasetToRaster\u001b[0m:\nLine \u001b[0;34m1534\u001b[0m:  retval = convertArcObjectToPythonObject(gp.LasDatasetToRaster_conversion(*gp_fixargs((in_las_dataset, out_raster, value_field, interpolation_type, data_type, sampling_type, sampling_value, z_factor), \u001b[34mTrue\u001b[39;49;00m)))\u001b[37m\u001b[39;49;00m\n",
      "File \u001b[0;34mC:\\Program Files\\ArcGIS\\Pro\\Resources\\ArcPy\\arcpy\\geoprocessing\\_base.py\u001b[0m, in \u001b[0;32m<lambda>\u001b[0m:\nLine \u001b[0;34m512\u001b[0m:   \u001b[34mreturn\u001b[39;49;00m \u001b[34mlambda\u001b[39;49;00m *args: val(*gp_fixargs(args, \u001b[34mTrue\u001b[39;49;00m))\u001b[37m\u001b[39;49;00m\n",
      "\u001b[0;31mExecuteError\u001b[0m: ERROR 000258: Output C:\\Mac\\Home\\Documents\\ArcGIS\\Projects\\Lab2_Notebooks\\Lab2_Notebooks.gdb\\las_dem already exists\nCannot acquire a schema lock because of an existing lock.\nFailed to execute (LasDatasetToRaster).\n\n\u001b[0;31m---------------------------------------------------------------------------\u001b[0m"
     ]
    }
   ],
   "source": [
    "arcpy.conversion.LasDatasetToRaster('C:\\Mac\\Home\\Documents\\ArcGIS\\Projects\\Lab2_Notebooks\\4342-12-05.las', 'las_dem')"
   ]
  },
  {
   "cell_type": "code",
   "execution_count": null,
   "metadata": {},
   "outputs": [],
   "source": [
    "zip_url='https://ftp.prism.oregonstate.edu/normals/monthly/4km/ppt/PRISM_ppt_30yr_normal_4kmM4_all_bil.zip'\n",
    "zip_response= requests.get(zip_url)\n",
    "zip_path ='C:\\Mac\\Home\\Documents\\ArcGIS\\Lab2Data\\PRISM_ppt_30yr_normal_4kmM4_all_bil.zip'\n",
    "with open(zip_path, 'wb') as file:\n",
    "    file.write(zip_response.content)\n",
    "    \n",
    "with zipfile.ZipFile(zip_path, 'r') as zip_ref:\n",
    "    zip_ref.extractall(directory)"
   ]
  },
  {
   "cell_type": "code",
   "execution_count": 7,
   "metadata": {},
   "outputs": [],
   "source": [
    "gdb= 'C:\\Mac\\Home\\Documents\\ArcGIS\\Projects\\Lab2_Notebooks\\Lab2_Notebooks.gdb'\n",
    "mosaic=arcpy.management.CreateMosaicDataset(gdb, 'mosaic', arcpy.SpatialReference(4269))"
   ]
  },
  {
   "cell_type": "code",
   "execution_count": 8,
   "metadata": {},
   "outputs": [
    {
     "data": {
      "text/html": [
       "<div class='gpresult'><h2>Messages</h2><div id='messages'>Start Time: Wednesday, October 23, 2024 7:53:40 AM<br>2024-10-23T07:53:44.053: Loading raster datasets<br>2024-10-23T07:53:44.178: Completed crawling 13 data source items. Added 13 mosaic dataset items.<br>2024-10-23T07:53:44.182: Synchronizing crawled data source items<br>2024-10-23T07:53:44.204: Synchronizing items associated with raster type instance &#39;Raster Dataset&#39; [ID: 1].<br>2024-10-23T07:53:44.759: Completed synchronization: 13 items selected, 13 items synchronized.<br>2024-10-23T07:53:45.034: Computing cell size levels<br>2024-10-23T07:53:45.035: Computing unique cell size values<br>2024-10-23T07:53:45.196: Computing maximum cell size values<br>2024-10-23T07:53:45.204: Computing minimum cell size values<br>2024-10-23T07:53:45.214: Updating visibility values of selected items<br>2024-10-23T07:53:45.297: Computing maximum cell size for mosaic dataset<br>2024-10-23T07:53:45.325: Completed computing cell size ranges.<br>2024-10-23T07:53:45.571: Completed building boundary.<br>Succeeded at Wednesday, October 23, 2024 7:53:55 AM (Elapsed Time: 15.51 seconds)<br></div><div id = 'default' /></div></div>"
      ],
      "text/plain": [
       "<Result 'C:\\\\Mac\\\\Home\\\\Documents\\\\ArcGIS\\\\Projects\\\\Lab2_Notebooks\\\\Lab2_Notebooks.gdb\\\\mosaic'>"
      ]
     },
     "execution_count": 8,
     "metadata": {},
     "output_type": "execute_result"
    }
   ],
   "source": [
    "arcpy.management.AddRastersToMosaicDataset(mosaic, \"Raster Dataset\", 'C:\\Mac\\Home\\Documents\\ArcGIS\\Lab2Data')"
   ]
  },
  {
   "cell_type": "code",
   "execution_count": 9,
   "metadata": {},
   "outputs": [
    {
     "data": {
      "text/html": [
       "<div class='gpresult'><h2>Messages</h2><div id='messages'>Start Time: Wednesday, October 23, 2024 7:53:59 AM<br>Adding Variable to AMD_mosaic_CAT...<br>Succeeded at Wednesday, October 23, 2024 7:54:04 AM (Elapsed Time: 5.27 seconds)<br></div><div id = 'default' /></div></div>"
      ],
      "text/plain": [
       "<Result 'mosaic\\\\Footprint'>"
      ]
     },
     "execution_count": 9,
     "metadata": {},
     "output_type": "execute_result"
    }
   ],
   "source": [
    "arcpy.management.CalculateField(\n",
    "    in_table=r\"mosaic\\Footprint\",\n",
    "    field=\"Variable\",\n",
    "    expression='\"precipitation\"',\n",
    "    expression_type=\"PYTHON3\",\n",
    "    code_block=\"\",\n",
    "    field_type=\"TEXT\",\n",
    "    enforce_domains=\"NO_ENFORCE_DOMAINS\"\n",
    ")"
   ]
  },
  {
   "cell_type": "code",
   "execution_count": 10,
   "metadata": {},
   "outputs": [
    {
     "data": {
      "text/html": [
       "<div class='gpresult'><h2>Messages</h2><div id='messages'>Start Time: Wednesday, October 23, 2024 7:54:07 AM<br>Adding Timestamp to AMD_mosaic_CAT...<br>Succeeded at Wednesday, October 23, 2024 7:54:09 AM (Elapsed Time: 2.32 seconds)<br></div><div id = 'default' /></div></div>"
      ],
      "text/plain": [
       "<Result 'mosaic\\\\Footprint'>"
      ]
     },
     "execution_count": 10,
     "metadata": {},
     "output_type": "execute_result"
    }
   ],
   "source": [
    "arcpy.management.CalculateField(\n",
    "    in_table=r\"mosaic\\Footprint\",\n",
    "    field=\"Timestamp\",\n",
    "    expression=\"DateAdd(Date(1990,12,1), $feature.OBJECTID-1, 'month')\",\n",
    "    expression_type=\"ARCADE\",\n",
    "    code_block=\"\",\n",
    "    field_type=\"DATE\",\n",
    "    enforce_domains=\"NO_ENFORCE_DOMAINS\"\n",
    ")"
   ]
  },
  {
   "cell_type": "code",
   "execution_count": 11,
   "metadata": {},
   "outputs": [
    {
     "data": {
      "text/html": [
       "<div class='gpresult'><h2>Messages</h2><div id='messages'>Start Time: Wednesday, October 23, 2024 7:54:11 AM<br>Succeeded at Wednesday, October 23, 2024 7:54:24 AM (Elapsed Time: 12.99 seconds)<br></div><div id = 'default' /></div></div>"
      ],
      "text/plain": [
       "<Result 'mosaic'>"
      ]
     },
     "execution_count": 11,
     "metadata": {},
     "output_type": "execute_result"
    }
   ],
   "source": [
    "arcpy.md.BuildMultidimensionalInfo(\n",
    "    in_mosaic_dataset=\"mosaic\",\n",
    "    variable_field=\"Variable\",\n",
    "    dimension_fields=\"Timestamp # #\",\n",
    "    variable_desc_units=None,\n",
    "    delete_multidimensional_info=\"NO_DELETE_MULTIDIMENSIONAL_INFO\"\n",
    ")"
   ]
  },
  {
   "cell_type": "code",
   "execution_count": 12,
   "metadata": {},
   "outputs": [],
   "source": [
    "mdraster=arcpy.md.MakeMultidimensionalRasterLayer(\n",
    "    in_multidimensional_raster=\"mosaic\",\n",
    "    out_multidimensional_raster_layer=\"C:\\Mac\\Home\\Documents\\ArcGIS\\Projects\\Lab2_Notebooks\\mosaic_MultidimLayer\",\n",
    "    variables=\"precipitation\",\n",
    "    dimension_def=\"ALL\",\n",
    "\n",
    ")"
   ]
  },
  {
   "cell_type": "code",
   "execution_count": 14,
   "metadata": {},
   "outputs": [
    {
     "data": {
      "text/html": [
       "<div class='gpresult'><h2>Messages</h2><div id='messages'>Start Time: Wednesday, October 23, 2024 8:13:42 AM<br>Building Pyramids...<br>Calculating Statistics...<br>Succeeded at Wednesday, October 23, 2024 8:14:32 AM (Elapsed Time: 49.58 seconds)<br></div><div id = 'default' /></div></div>"
      ],
      "text/plain": [
       "<Result 'C:\\\\Mac\\\\Home\\\\Documents\\\\ArcGIS\\\\Projects\\\\Lab2_Notebooks\\\\mosaic_MultidimLayer_CopyRaster.crf'>"
      ]
     },
     "execution_count": 14,
     "metadata": {},
     "output_type": "execute_result"
    }
   ],
   "source": [
    "arcpy.management.CopyRaster(\n",
    "    in_raster=r\"C:\\Mac\\Home\\Documents\\ArcGIS\\Projects\\Lab2_Notebooks\\mosaic_MultidimLayer\",\n",
    "    out_rasterdataset=r\"C:\\Mac\\Home\\Documents\\ArcGIS\\Projects\\Lab2_Notebooks\\mosaic_MultidimLayer_CopyRaster.crf\",\n",
    "    config_keyword=\"\",\n",
    "    background_value=None,\n",
    "    nodata_value=\"\",\n",
    "    onebit_to_eightbit=\"NONE\",\n",
    "    colormap_to_RGB=\"NONE\",\n",
    "    pixel_type=\"\",\n",
    "    scale_pixel_value=\"NONE\",\n",
    "    RGB_to_Colormap=\"NONE\",\n",
    "    format=\"CRF\",\n",
    "    transform=\"NONE\",\n",
    "    process_as_multidimensional=\"ALL_SLICES\",\n",
    "    build_multidimensional_transpose=\"NO_TRANSPOSE\"\n",
    ")"
   ]
  },
  {
   "cell_type": "code",
   "execution_count": 15,
   "metadata": {},
   "outputs": [
    {
     "data": {
      "text/html": [
       "<div class='gpresult'><h2>Messages</h2><div id='messages' data-messages='[\"Start Time: Wednesday, October 23, 2024 8:15:11 AM\",\"WARNING 110290: This tool requires projected data to accurately measure distances.  The Input Multidimensional Raster Layer will be projected to the WGS 1984 World Equidistant Cylindrical projection (WKID 4087).\",\"WARNING 110013: The default Time Step Interval is 1 month.\",\"WARNING 110067: Your spatial reference is not compatible with CF Conventions.  You may experience difficulties using the resulting space-time cube with other NetCDF tools and software.\",[{\"element\":\"table\",\"data\":[[{\"data\":\"Input feature time extent\",\"prop\":{\"rowspan\":2}},\"1991-01-01 00:00:00\"],[{\"data\":\"to 1992-01-01 00:00:00\",\"prop\":{\"text-align\":\"right\"}}],[\"\",\"\"],[\"Number of time steps\",\"13\"],[\"Time step interval\",\"1 month\"],[\"Time step alignment\",\"End\"],[\"\",\"\"],[\"First time step temporal bias\",\"100.00%\"],[{\"data\":\"First time step interval\",\"prop\":{\"rowspan\":4}},\"after\"],[{\"data\":\"1990-12-01 00:00:00\",\"prop\":{\"text-align\":\"right\"}}],[{\"data\":\"to on or before\",\"prop\":{\"text-align\":\"right\"}}],[{\"data\":\"1991-01-01 00:00:00\",\"prop\":{\"text-align\":\"right\"}}],[\"\",\"\"],[\"Last time step temporal bias\",\"0.00%\"],[{\"data\":\"Last time step interval\",\"prop\":{\"rowspan\":4}},\"after\"],[{\"data\":\"1991-12-01 00:00:00\",\"prop\":{\"text-align\":\"right\"}}],[{\"data\":\"to on or before\",\"prop\":{\"text-align\":\"right\"}}],[{\"data\":\"1992-01-01 00:00:00\",\"prop\":{\"text-align\":\"right\"}}],[\"\",\"\"],[\"Coordinate System\",\"WGS 1984 World Equidistant Cylindrical\"],[\"Cube extent across space\",\"(coordinates in meters)\"],[\"Min X\",\"-13894065.6610\"],[\"Min Y\",\"2708362.4449\"],[\"Max X\",\"-7451448.3421\"],[\"Max Y\",\"5478284.6852\"]],\"elementProps\":{\"striped\":\"true\",\"noHeader\":true,\"title\":\"Space Time Cube Characteristics\",\"0\":{\"align\":\"left\",\"pad\":\"0px\",\"wrap\":true},\"1\":{\"align\":\"right\",\"pad\":\"0px\",\"wrap\":true}}}],[{\"element\":\"table\",\"data\":[[\"Locations\",\"481631\"],[\"Total observations\",\"6261203\"]],\"elementProps\":{\"striped\":\"true\",\"noHeader\":true,\"0\":{\"align\":\"left\",\"pad\":\"0px\",\"wrap\":true},\"1\":{\"align\":\"right\",\"pad\":\"0px\",\"wrap\":true}}}],[{\"element\":\"table\",\"data\":[[\"Trend direction\",\"     Increasing\"],[\"Trend statistic\",\"2.6234\"],[\"Trend p-value\",\"0.0087\"]],\"elementProps\":{\"striped\":\"true\",\"noHeader\":true,\"title\":\"Overall Data Trend - PRECIPITATION_NONE_ZEROS\",\"0\":{\"align\":\"left\",\"pad\":\"0px\",\"wrap\":true},\"1\":{\"align\":\"right\",\"pad\":\"0px\",\"wrap\":true}}}],\"Succeeded at Wednesday, October 23, 2024 8:22:59 AM (Elapsed Time: 7 minutes 47 seconds)\"]' data-show='true'><div id = 'default' /></div></div>"
      ],
      "text/plain": [
       "<Result 'C:\\\\Mac\\\\Home\\\\Documents\\\\ArcGIS\\\\Projects\\\\Lab2_Notebooks\\\\prism_stc.nc'>"
      ]
     },
     "execution_count": 15,
     "metadata": {},
     "output_type": "execute_result"
    }
   ],
   "source": [
    "arcpy.stpm.CreateSpaceTimeCubeMDRasterLayer(\n",
    "    in_md_raster=\"C:\\Mac\\Home\\Documents\\ArcGIS\\Projects\\Lab2_Notebooks\\mosaic_MultidimLayer_CopyRaster.crf\",\n",
    "    output_cube=r\"C:\\Mac\\Home\\Documents\\ArcGIS\\Projects\\Lab2_Notebooks\\prism_stc.nc\",\n",
    "    fill_empty_bins=\"ZEROS\"\n",
    ")"
   ]
  },
  {
   "cell_type": "code",
   "execution_count": null,
   "metadata": {},
   "outputs": [],
   "source": []
  }
 ],
 "metadata": {
  "kernelspec": {
   "display_name": "ArcGISPro",
   "language": "Python",
   "name": "python3"
  },
  "language_info": {
   "file_extension": ".py",
   "name": "python",
   "version": "3"
  }
 },
 "nbformat": 4,
 "nbformat_minor": 2
}
