{
 "cells": [
  {
   "cell_type": "code",
   "execution_count": 1,
   "metadata": {},
   "outputs": [],
   "source": [
    "#Connect to GIS\n",
    "from arcgis.gis import GIS\n",
    "gis = GIS(\"home\")"
   ]
  },
  {
   "cell_type": "code",
   "execution_count": 2,
   "metadata": {},
   "outputs": [],
   "source": [
    "import requests\n",
    "import pandas as pd\n",
    "import zipfile\n",
    "import os\n",
    "import io\n",
    "import arcpy"
   ]
  },
  {
   "cell_type": "code",
   "execution_count": 3,
   "metadata": {},
   "outputs": [],
   "source": [
    "directory='C:\\Mac\\Home\\Documents\\ArcGIS\\Lab2Data'\n",
    "url = r\"https://resources.gisdata.mn.gov/pub/data/elevation/lidar/examples/lidar_sample/las/4342-12-05.las\"\n",
    "in_las_dataset = requests.get(url)\n",
    "f= open(r\"C:\\Mac\\Home\\Documents\\ArcGIS\\Projects\\Lab2_Notebooks\\4342-12-05.las\", 'wb')\n",
    "f.write(in_las_dataset.content)\n",
    "f.close()"
   ]
  },
  {
   "cell_type": "code",
   "execution_count": 17,
   "metadata": {},
   "outputs": [
    {
     "data": {
      "text/html": [
       "<div class='gpresult'><h2>Messages</h2><div id='messages'>Start Time: Sunday, October 27, 2024 1:18:56 PM<br>Succeeded at Sunday, October 27, 2024 1:19:14 PM (Elapsed Time: 17.77 seconds)<br></div><div id = 'default' /></div></div>"
      ],
      "text/plain": [
       "<Result 'C:\\\\Mac\\\\Home\\\\Documents\\\\ArcGIS\\\\Projects\\\\Lab2_Notebooks\\\\las_tin.tin'>"
      ]
     },
     "execution_count": 17,
     "metadata": {},
     "output_type": "execute_result"
    }
   ],
   "source": [
    "# .las to TIN\n",
    "input_las = \"C:/Mac/Home/Documents/ArcGIS/Projects/Lab2_Notebooks/4342-12-05.las\"\n",
    "out_tin = 'C:\\Mac\\Home\\Documents\\ArcGIS\\Projects\\Lab2_Notebooks\\las_tin.tin'\n",
    "arcpy.ddd.LasDatasetToTin(input_las, out_tin, thinning_type= 'random', thinning_method='percent', thinning_value= 30)"
   ]
  },
  {
   "cell_type": "code",
   "execution_count": 16,
   "metadata": {},
   "outputs": [
    {
     "data": {
      "text/html": [
       "<div class='gpresult'><h2>Messages</h2><div id='messages'>Start Time: Sunday, October 27, 2024 1:16:59 PM<br>Succeeded at Sunday, October 27, 2024 1:17:01 PM (Elapsed Time: 2.07 seconds)<br></div><div id = 'default' /></div></div>"
      ],
      "text/plain": [
       "<Result 'C:\\\\Mac\\\\Home\\\\Documents\\\\ArcGIS\\\\Projects\\\\Lab2_Notebooks\\\\las_dem.tif'>"
      ]
     },
     "execution_count": 16,
     "metadata": {},
     "output_type": "execute_result"
    }
   ],
   "source": [
    "# .las to DEM\n",
    "output_raster = \"C:/Mac/Home/Documents/ArcGIS/Projects/Lab2_Notebooks/las_dem.tif\"\n",
    "arcpy.conversion.LasDatasetToRaster(input_las, output_raster)"
   ]
  },
  {
   "cell_type": "code",
   "execution_count": 25,
   "metadata": {},
   "outputs": [
    {
     "data": {
      "text/plain": [
       "'C:/Mac/Home/Documents/GitHub/GIS5571/Lab2/las_dem.pdf'"
      ]
     },
     "execution_count": 25,
     "metadata": {},
     "output_type": "execute_result"
    }
   ],
   "source": [
    "# export DEM and TIN to PDF\n",
    "dem_pdf_path=\"C:/Mac/Home/Documents/GitHub/GIS5571/Lab2/las_dem.pdf\"\n",
    "aprx = arcpy.mp.ArcGISProject(\"CURRENT\")\n",
    "lyt = aprx.listLayouts(\"dem_layout\")[0]\n",
    "lyt.exportToPDF(dem_pdf_path, resolution=300)"
   ]
  },
  {
   "cell_type": "code",
   "execution_count": 36,
   "metadata": {},
   "outputs": [
    {
     "data": {
      "text/plain": [
       "'C:/Mac/Home/Documents/GitHub/GIS5571/Lab2/tin_dem.pdf'"
      ]
     },
     "execution_count": 36,
     "metadata": {},
     "output_type": "execute_result"
    }
   ],
   "source": [
    "# export DEM and TIN to PDF\n",
    "tin_pdf_path=\"C:/Mac/Home/Documents/GitHub/GIS5571/Lab2/tin_dem.pdf\"\n",
    "aprx = arcpy.mp.ArcGISProject(\"CURRENT\")\n",
    "lyt = aprx.listLayouts(\"tin_layout\")[0]\n",
    "lyt.exportToPDF(tin_pdf_path, resolution=300)"
   ]
  },
  {
   "cell_type": "code",
   "execution_count": 27,
   "metadata": {},
   "outputs": [],
   "source": [
    "zip_url='https://ftp.prism.oregonstate.edu/normals/monthly/4km/ppt/PRISM_ppt_30yr_normal_4kmM4_all_bil.zip'\n",
    "zip_response= requests.get(zip_url)\n",
    "zip_path ='C:\\Mac\\Home\\Documents\\ArcGIS\\Lab2Data\\PRISM_ppt_30yr_normal_4kmM4_all_bil.zip'\n",
    "with open(zip_path, 'wb') as file:\n",
    "    file.write(zip_response.content)\n",
    "    \n",
    "with zipfile.ZipFile(zip_path, 'r') as zip_ref:\n",
    "    zip_ref.extractall(directory)"
   ]
  },
  {
   "cell_type": "code",
   "execution_count": 28,
   "metadata": {},
   "outputs": [],
   "source": [
    "gdb= 'C:\\Mac\\Home\\Documents\\ArcGIS\\Projects\\Lab2_Notebooks\\Lab2_Notebooks.gdb'\n",
    "mosaic=arcpy.management.CreateMosaicDataset(gdb, 'mosaic', arcpy.SpatialReference(4269))"
   ]
  },
  {
   "cell_type": "code",
   "execution_count": 29,
   "metadata": {},
   "outputs": [
    {
     "data": {
      "text/html": [
       "<div class='gpresult'><h2>Messages</h2><div id='messages'>Start Time: Sunday, October 27, 2024 2:53:44 PM<br>2024-10-27T14:53:49.731: Loading raster datasets<br>2024-10-27T14:53:49.853: Completed crawling 13 data source items. Added 13 mosaic dataset items.<br>2024-10-27T14:53:49.857: Synchronizing crawled data source items<br>2024-10-27T14:53:49.879: Synchronizing items associated with raster type instance &#39;Raster Dataset&#39; [ID: 1].<br>2024-10-27T14:53:50.259: Completed synchronization: 13 items selected, 13 items synchronized.<br>2024-10-27T14:53:50.716: Computing cell size levels<br>2024-10-27T14:53:50.717: Computing unique cell size values<br>2024-10-27T14:53:50.853: Computing maximum cell size values<br>2024-10-27T14:53:50.863: Computing minimum cell size values<br>2024-10-27T14:53:50.872: Updating visibility values of selected items<br>2024-10-27T14:53:50.951: Computing maximum cell size for mosaic dataset<br>2024-10-27T14:53:50.983: Completed computing cell size ranges.<br>2024-10-27T14:53:51.251: Completed building boundary.<br>Succeeded at Sunday, October 27, 2024 2:54:04 PM (Elapsed Time: 20.11 seconds)<br></div><div id = 'default' /></div></div>"
      ],
      "text/plain": [
       "<Result 'C:\\\\Mac\\\\Home\\\\Documents\\\\ArcGIS\\\\Projects\\\\Lab2_Notebooks\\\\Lab2_Notebooks.gdb\\\\mosaic'>"
      ]
     },
     "execution_count": 29,
     "metadata": {},
     "output_type": "execute_result"
    }
   ],
   "source": [
    "arcpy.management.AddRastersToMosaicDataset(mosaic, \"Raster Dataset\", 'C:\\Mac\\Home\\Documents\\ArcGIS\\Lab2Data')"
   ]
  },
  {
   "cell_type": "code",
   "execution_count": 30,
   "metadata": {},
   "outputs": [
    {
     "data": {
      "text/html": [
       "<div class='gpresult'><h2>Messages</h2><div id='messages'>Start Time: Sunday, October 27, 2024 2:54:27 PM<br>Adding Variable to AMD_mosaic_CAT...<br>Succeeded at Sunday, October 27, 2024 2:54:30 PM (Elapsed Time: 3.03 seconds)<br></div><div id = 'default' /></div></div>"
      ],
      "text/plain": [
       "<Result 'mosaic\\\\Footprint'>"
      ]
     },
     "execution_count": 30,
     "metadata": {},
     "output_type": "execute_result"
    }
   ],
   "source": [
    "arcpy.management.CalculateField(\n",
    "    in_table=r\"mosaic\\Footprint\",\n",
    "    field=\"Variable\",\n",
    "    expression='\"precipitation\"',\n",
    "    expression_type=\"PYTHON3\",\n",
    "    code_block=\"\",\n",
    "    field_type=\"TEXT\",\n",
    "    enforce_domains=\"NO_ENFORCE_DOMAINS\"\n",
    ")"
   ]
  },
  {
   "cell_type": "code",
   "execution_count": 31,
   "metadata": {},
   "outputs": [
    {
     "data": {
      "text/html": [
       "<div class='gpresult'><h2>Messages</h2><div id='messages'>Start Time: Sunday, October 27, 2024 2:54:40 PM<br>Adding Timestamp to AMD_mosaic_CAT...<br>Succeeded at Sunday, October 27, 2024 2:54:43 PM (Elapsed Time: 2.98 seconds)<br></div><div id = 'default' /></div></div>"
      ],
      "text/plain": [
       "<Result 'mosaic\\\\Footprint'>"
      ]
     },
     "execution_count": 31,
     "metadata": {},
     "output_type": "execute_result"
    }
   ],
   "source": [
    "arcpy.management.CalculateField(\n",
    "    in_table=r\"mosaic\\Footprint\",\n",
    "    field=\"Timestamp\",\n",
    "    expression=\"DateAdd(Date(1990,12,1), $feature.OBJECTID-1, 'month')\",\n",
    "    expression_type=\"ARCADE\",\n",
    "    code_block=\"\",\n",
    "    field_type=\"DATE\",\n",
    "    enforce_domains=\"NO_ENFORCE_DOMAINS\"\n",
    ")"
   ]
  },
  {
   "cell_type": "code",
   "execution_count": 32,
   "metadata": {},
   "outputs": [
    {
     "data": {
      "text/html": [
       "<div class='gpresult'><h2>Messages</h2><div id='messages'>Start Time: Sunday, October 27, 2024 2:54:54 PM<br>Succeeded at Sunday, October 27, 2024 2:55:06 PM (Elapsed Time: 12.48 seconds)<br></div><div id = 'default' /></div></div>"
      ],
      "text/plain": [
       "<Result 'mosaic'>"
      ]
     },
     "execution_count": 32,
     "metadata": {},
     "output_type": "execute_result"
    }
   ],
   "source": [
    "arcpy.md.BuildMultidimensionalInfo(\n",
    "    in_mosaic_dataset=\"mosaic\",\n",
    "    variable_field=\"Variable\",\n",
    "    dimension_fields=\"Timestamp # #\",\n",
    "    variable_desc_units=None,\n",
    "    delete_multidimensional_info=\"NO_DELETE_MULTIDIMENSIONAL_INFO\"\n",
    ")"
   ]
  },
  {
   "cell_type": "code",
   "execution_count": 33,
   "metadata": {},
   "outputs": [],
   "source": [
    "mdraster=arcpy.md.MakeMultidimensionalRasterLayer(\n",
    "    in_multidimensional_raster=\"mosaic\",\n",
    "    out_multidimensional_raster_layer=\"mosaic_MultidimLayer\",\n",
    "    variables=\"precipitation\",\n",
    "    dimension_def=\"ALL\",\n",
    "\n",
    ")"
   ]
  },
  {
   "cell_type": "code",
   "execution_count": 34,
   "metadata": {},
   "outputs": [
    {
     "data": {
      "text/html": [
       "<div class='gpresult'><h2>Messages</h2><div id='messages'>Start Time: Sunday, October 27, 2024 2:56:34 PM<br>Building Pyramids...<br>Calculating Statistics...<br>Succeeded at Sunday, October 27, 2024 2:56:39 PM (Elapsed Time: 5.25 seconds)<br></div><div id = 'default' /></div></div>"
      ],
      "text/plain": [
       "<Result 'C:\\\\Mac\\\\Home\\\\Documents\\\\ArcGIS\\\\Projects\\\\Lab2_Notebooks\\\\mosaic_MultidimLayer_CopyRaster.crf'>"
      ]
     },
     "execution_count": 34,
     "metadata": {},
     "output_type": "execute_result"
    }
   ],
   "source": [
    "arcpy.management.CopyRaster(\n",
    "    in_raster=r\"C:\\Mac\\Home\\Documents\\ArcGIS\\Projects\\Lab2_Notebooks\\mosaic_MultidimLayer\",\n",
    "    out_rasterdataset=\"mosaic_MultidimLayer_CopyRaster.crf\",\n",
    "    config_keyword=\"\",\n",
    "    background_value=None,\n",
    "    nodata_value=\"\",\n",
    "    onebit_to_eightbit=\"NONE\",\n",
    "    colormap_to_RGB=\"NONE\",\n",
    "    pixel_type=\"\",\n",
    "    scale_pixel_value=\"NONE\",\n",
    "    RGB_to_Colormap=\"NONE\",\n",
    "    format=\"CRF\",\n",
    "    transform=\"NONE\",\n",
    "    process_as_multidimensional=\"ALL_SLICES\",\n",
    "    build_multidimensional_transpose=\"NO_TRANSPOSE\"\n",
    ")"
   ]
  },
  {
   "cell_type": "code",
   "execution_count": 35,
   "metadata": {},
   "outputs": [
    {
     "data": {
      "text/html": [
       "<div class='gpresult'><h2>Messages</h2><div id='messages' data-messages='[\"Start Time: Sunday, October 27, 2024 2:57:17 PM\",\"WARNING 110290: This tool requires projected data to accurately measure distances.  The Input Multidimensional Raster Layer will be projected to the WGS 1984 World Equidistant Cylindrical projection (WKID 4087).\",\"WARNING 110013: The default Time Step Interval is 1 month.\",\"WARNING 110067: Your spatial reference is not compatible with CF Conventions.  You may experience difficulties using the resulting space-time cube with other NetCDF tools and software.\",[{\"element\":\"table\",\"data\":[[{\"data\":\"Input feature time extent\",\"prop\":{\"rowspan\":2}},\"1991-01-01 00:00:00\"],[{\"data\":\"to 1992-01-01 00:00:00\",\"prop\":{\"text-align\":\"right\"}}],[\"\",\"\"],[\"Number of time steps\",\"13\"],[\"Time step interval\",\"1 month\"],[\"Time step alignment\",\"End\"],[\"\",\"\"],[\"First time step temporal bias\",\"100.00%\"],[{\"data\":\"First time step interval\",\"prop\":{\"rowspan\":4}},\"after\"],[{\"data\":\"1990-12-01 00:00:00\",\"prop\":{\"text-align\":\"right\"}}],[{\"data\":\"to on or before\",\"prop\":{\"text-align\":\"right\"}}],[{\"data\":\"1991-01-01 00:00:00\",\"prop\":{\"text-align\":\"right\"}}],[\"\",\"\"],[\"Last time step temporal bias\",\"0.00%\"],[{\"data\":\"Last time step interval\",\"prop\":{\"rowspan\":4}},\"after\"],[{\"data\":\"1991-12-01 00:00:00\",\"prop\":{\"text-align\":\"right\"}}],[{\"data\":\"to on or before\",\"prop\":{\"text-align\":\"right\"}}],[{\"data\":\"1992-01-01 00:00:00\",\"prop\":{\"text-align\":\"right\"}}],[\"\",\"\"],[\"Coordinate System\",\"WGS 1984 World Equidistant Cylindrical\"],[\"Cube extent across space\",\"(coordinates in meters)\"],[\"Min X\",\"-13894065.6610\"],[\"Min Y\",\"2708362.4449\"],[\"Max X\",\"-7451448.3421\"],[\"Max Y\",\"5478284.6852\"]],\"elementProps\":{\"striped\":\"true\",\"noHeader\":true,\"title\":\"Space Time Cube Characteristics\",\"0\":{\"align\":\"left\",\"pad\":\"0px\",\"wrap\":true},\"1\":{\"align\":\"right\",\"pad\":\"0px\",\"wrap\":true}}}],[{\"element\":\"table\",\"data\":[[\"Locations\",\"481631\"],[\"Total observations\",\"6261203\"]],\"elementProps\":{\"striped\":\"true\",\"noHeader\":true,\"0\":{\"align\":\"left\",\"pad\":\"0px\",\"wrap\":true},\"1\":{\"align\":\"right\",\"pad\":\"0px\",\"wrap\":true}}}],[{\"element\":\"table\",\"data\":[[\"Trend direction\",\"     Increasing\"],[\"Trend statistic\",\"2.6234\"],[\"Trend p-value\",\"0.0087\"]],\"elementProps\":{\"striped\":\"true\",\"noHeader\":true,\"title\":\"Overall Data Trend - PRECIPITATION_NONE_ZEROS\",\"0\":{\"align\":\"left\",\"pad\":\"0px\",\"wrap\":true},\"1\":{\"align\":\"right\",\"pad\":\"0px\",\"wrap\":true}}}],\"Succeeded at Sunday, October 27, 2024 3:02:05 PM (Elapsed Time: 4 minutes 48 seconds)\"]' data-show='true'><div id = 'default' /></div></div>"
      ],
      "text/plain": [
       "<Result 'C:\\\\Mac\\\\Home\\\\Documents\\\\ArcGIS\\\\Projects\\\\Lab2_Notebooks\\\\prism_stc.nc'>"
      ]
     },
     "execution_count": 35,
     "metadata": {},
     "output_type": "execute_result"
    }
   ],
   "source": [
    "arcpy.stpm.CreateSpaceTimeCubeMDRasterLayer(\n",
    "    in_md_raster=\"C:\\Mac\\Home\\Documents\\ArcGIS\\Projects\\Lab2_Notebooks\\mosaic_MultidimLayer_CopyRaster.crf\",\n",
    "    output_cube=r\"C:\\Mac\\Home\\Documents\\ArcGIS\\Projects\\Lab2_Notebooks\\prism_stc.nc\",\n",
    "    fill_empty_bins=\"ZEROS\"\n",
    ")"
   ]
  },
  {
   "cell_type": "code",
   "execution_count": null,
   "metadata": {},
   "outputs": [],
   "source": []
  }
 ],
 "metadata": {
  "kernelspec": {
   "display_name": "ArcGISPro",
   "language": "Python",
   "name": "python3"
  },
  "language_info": {
   "file_extension": ".py",
   "name": "python",
   "version": "3"
  }
 },
 "nbformat": 4,
 "nbformat_minor": 2
}
