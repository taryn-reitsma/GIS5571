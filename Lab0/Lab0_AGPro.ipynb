{
 "cells": [
  {
   "cell_type": "code",
   "execution_count": null,
   "metadata": {},
   "outputs": [],
   "source": [
    "# connects to GIS\n",
    "from arcgis.gis import GIS\n",
    "gis = GIS(\"home\")"
   ]
  },
  {
   "cell_type": "code",
   "execution_count": null,
   "metadata": {
    "scrolled": true
   },
   "outputs": [],
   "source": [
    "# first, upload input roads shapefile into ArcGIS Online database\n",
    "# accesses ArcGIS Online content by item ID, sets variable name to 'roads' and prints result\n",
    "roads = gis.content.get(\"4352f7fce3564b33bb147b51c5d7a53a\")\n",
    "roads"
   ]
  },
  {
   "cell_type": "code",
   "execution_count": null,
   "metadata": {},
   "outputs": [],
   "source": [
    "# imports 'arcgis.features.analysis' module to access the 'create_buffer' sub-module\n",
    "# sets buffer layer to name 'roads_buffer,' and takes the following inputs: \n",
    "    # input_layer, distances, side_type (not required), unit, end type (not required), output_name\n",
    "from arcgis import features\n",
    "roads_buffer = features.analysis.create_buffers(input_layer=roads,\n",
    "                         distances=[50],\n",
    "                         side_type ='Full',\n",
    "                         units='Meters',\n",
    "                         end_type='Round',\n",
    "                         output_name='RiceCounty50m_AGProBuffer')"
   ]
  }
 ],
 "metadata": {
  "kernelspec": {
   "display_name": "ArcGISPro",
   "language": "Python",
   "name": "python3"
  },
  "language_info": {
   "file_extension": ".py",
   "name": "python",
   "version": "3"
  }
 },
 "nbformat": 4,
 "nbformat_minor": 2
}
