{
 "cells": [
  {
   "cell_type": "code",
   "execution_count": 1,
   "metadata": {},
   "outputs": [],
   "source": [
    "from arcgis.gis import GIS\n",
    "gis = GIS(\"home\")"
   ]
  },
  {
   "cell_type": "code",
   "execution_count": 2,
   "metadata": {},
   "outputs": [],
   "source": [
    "import requests\n",
    "import pandas as pd\n",
    "import zipfile\n",
    "import os\n",
    "import io\n",
    "from arcgis import features, GeoAccessor, GeoSeriesAccessor\n",
    "from arcgis.gis import GIS\n",
    "from arcgis.features.analysis import join_features\n",
    "from arcgis.features import FeatureLayerCollection\n",
    "from arcgis.geometry import SpatialReference , Geometry\"C:\\\\Mac\\\\Home\\\\Documents\\\\ArcGIS\\\\Projects\\\\Lab1_Notebooks\\\\FGDB.gdb\\\\spatialjoin\"\n",
    "import arcpy"
   ]
  },
  {
   "cell_type": "code",
   "execution_count": 16,
   "metadata": {},
   "outputs": [
    {
     "data": {
      "text/html": [
       "<div class='gpresult'><h2>Messages</h2><div id='messages'>Start Time: Monday, October 7, 2024 12:17:37 PM<br>Succeeded at Monday, October 7, 2024 12:17:37 PM (Elapsed Time: 0.68 seconds)<br></div><div id = 'default' /></div></div>"
      ],
      "text/plain": [
       "<Result 'C:\\\\Mac\\\\Home\\\\Documents\\\\ArcGIS\\\\Projects\\\\Lab1_Notebooks\\\\FGDB.gdb'>"
      ]
     },
     "execution_count": 16,
     "metadata": {},
     "output_type": "execute_result"
    }
   ],
   "source": [
    "#Create File Geodatabase\n",
    "out_path='C:\\Mac\\Home\\Documents\\ArcGIS\\Projects\\Lab1_Notebooks'\n",
    "out_name= 'FGDB.gdb'\n",
    "arcpy.management.CreateFileGDB(out_path, out_name)"
   ]
  },
  {
   "cell_type": "code",
   "execution_count": 79,
   "metadata": {},
   "outputs": [
    {
     "data": {
      "text/html": [
       "<div>\n",
       "<style scoped>\n",
       "    .dataframe tbody tr th:only-of-type {\n",
       "        vertical-align: middle;\n",
       "    }\n",
       "\n",
       "    .dataframe tbody tr th {\n",
       "        vertical-align: top;\n",
       "    }\n",
       "\n",
       "    .dataframe thead th {\n",
       "        text-align: right;\n",
       "    }\n",
       "</style>\n",
       "<table border=\"1\" class=\"dataframe\">\n",
       "  <thead>\n",
       "    <tr style=\"text-align: right;\">\n",
       "      <th></th>\n",
       "      <th>Station Name</th>\n",
       "      <th>Latitude</th>\n",
       "      <th>Longitude</th>\n",
       "      <th>Elevation</th>\n",
       "      <th>Year</th>\n",
       "      <th>Avg Max Temp</th>\n",
       "      <th>Number Missing</th>\n",
       "      <th>Number Estimated</th>\n",
       "      <th>SHAPE</th>\n",
       "      <th>index_right</th>\n",
       "      <th>type</th>\n",
       "      <th>geometry.type</th>\n",
       "      <th>properties.COUNTY_NAME</th>\n",
       "    </tr>\n",
       "  </thead>\n",
       "  <tbody>\n",
       "    <tr>\n",
       "      <th>0</th>\n",
       "      <td>Ada</td>\n",
       "      <td>47.32119</td>\n",
       "      <td>-96.51406</td>\n",
       "      <td>910</td>\n",
       "      <td>2008</td>\n",
       "      <td>48.805</td>\n",
       "      <td>0</td>\n",
       "      <td>0</td>\n",
       "      <td>{\"spatialReference\": {\"wkid\": 4326}, \"x\": -96....</td>\n",
       "      <td>66</td>\n",
       "      <td>Feature</td>\n",
       "      <td>Polygon</td>\n",
       "      <td>Norman</td>\n",
       "    </tr>\n",
       "    <tr>\n",
       "      <th>1</th>\n",
       "      <td>Ada</td>\n",
       "      <td>47.32119</td>\n",
       "      <td>-96.51406</td>\n",
       "      <td>910</td>\n",
       "      <td>2009</td>\n",
       "      <td>48.829</td>\n",
       "      <td>0</td>\n",
       "      <td>0</td>\n",
       "      <td>{\"spatialReference\": {\"wkid\": 4326}, \"x\": -96....</td>\n",
       "      <td>66</td>\n",
       "      <td>Feature</td>\n",
       "      <td>Polygon</td>\n",
       "      <td>Norman</td>\n",
       "    </tr>\n",
       "    <tr>\n",
       "      <th>2</th>\n",
       "      <td>Ada</td>\n",
       "      <td>47.32119</td>\n",
       "      <td>-96.51406</td>\n",
       "      <td>910</td>\n",
       "      <td>2010</td>\n",
       "      <td>52.036</td>\n",
       "      <td>0</td>\n",
       "      <td>0</td>\n",
       "      <td>{\"spatialReference\": {\"wkid\": 4326}, \"x\": -96....</td>\n",
       "      <td>66</td>\n",
       "      <td>Feature</td>\n",
       "      <td>Polygon</td>\n",
       "      <td>Norman</td>\n",
       "    </tr>\n",
       "    <tr>\n",
       "      <th>3</th>\n",
       "      <td>Ada</td>\n",
       "      <td>47.32119</td>\n",
       "      <td>-96.51406</td>\n",
       "      <td>910</td>\n",
       "      <td>2011</td>\n",
       "      <td>51.884</td>\n",
       "      <td>0</td>\n",
       "      <td>0</td>\n",
       "      <td>{\"spatialReference\": {\"wkid\": 4326}, \"x\": -96....</td>\n",
       "      <td>66</td>\n",
       "      <td>Feature</td>\n",
       "      <td>Polygon</td>\n",
       "      <td>Norman</td>\n",
       "    </tr>\n",
       "    <tr>\n",
       "      <th>4</th>\n",
       "      <td>Ada</td>\n",
       "      <td>47.32119</td>\n",
       "      <td>-96.51406</td>\n",
       "      <td>910</td>\n",
       "      <td>2012</td>\n",
       "      <td>55.731</td>\n",
       "      <td>0</td>\n",
       "      <td>0</td>\n",
       "      <td>{\"spatialReference\": {\"wkid\": 4326}, \"x\": -96....</td>\n",
       "      <td>66</td>\n",
       "      <td>Feature</td>\n",
       "      <td>Polygon</td>\n",
       "      <td>Norman</td>\n",
       "    </tr>\n",
       "  </tbody>\n",
       "</table>\n",
       "</div>"
      ],
      "text/plain": [
       "  Station Name  Latitude  ...  geometry.type  properties.COUNTY_NAME\n",
       "0          Ada  47.32119  ...        Polygon                  Norman\n",
       "1          Ada  47.32119  ...        Polygon                  Norman\n",
       "2          Ada  47.32119  ...        Polygon                  Norman\n",
       "3          Ada  47.32119  ...        Polygon                  Norman\n",
       "4          Ada  47.32119  ...        Polygon                  Norman\n",
       "\n",
       "[5 rows x 13 columns]"
      ]
     },
     "execution_count": 79,
     "metadata": {},
     "output_type": "execute_result"
    }
   ],
   "source": [
    "joined_sedf = sdf.spatial.join(sedf, how='left', op='intersects')\n",
    "joined_sedf.head()"
   ]
  },
  {
   "cell_type": "code",
   "execution_count": 80,
   "metadata": {},
   "outputs": [
    {
     "data": {
      "text/plain": [
       "'C:\\\\Mac\\\\Home\\\\Documents\\\\ArcGIS\\\\Projects\\\\Lab1_Notebooks\\\\FGDB.gdb\\\\spatialjoin'"
      ]
     },
     "execution_count": 80,
     "metadata": {},
     "output_type": "execute_result"
    }
   ],
   "source": [
    "path=r'C:\\Mac\\Home\\Documents\\ArcGIS\\Projects\\Lab1_Notebooks\\FGDB.gdb'\n",
    "out_name = \"spatialjoin\"\n",
    "joined_sedf.spatial.to_featureclass(location=f\"{path}/{out_name}\")"
   ]
  },
  {
   "cell_type": "code",
   "execution_count": null,
   "metadata": {},
   "outputs": [],
   "source": []
  }
 ],
 "metadata": {
  "kernelspec": {
   "display_name": "ArcGISPro",
   "language": "Python",
   "name": "python3"
  },
  "language_info": {
   "file_extension": ".py",
   "name": "python",
   "version": "3"
  }
 },
 "nbformat": 4,
 "nbformat_minor": 2
}
