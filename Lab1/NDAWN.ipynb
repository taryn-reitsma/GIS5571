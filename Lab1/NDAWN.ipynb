{
 "cells": [
  {
   "cell_type": "code",
   "execution_count": 17,
   "metadata": {},
   "outputs": [],
   "source": [
    "#Connect to GIS\n",
    "from arcgis.gis import GIS\n",
    "gis = GIS(\"home\")"
   ]
  },
  {
   "cell_type": "code",
   "execution_count": 18,
   "metadata": {},
   "outputs": [],
   "source": [
    "#Packages\n",
    "import requests\n",
    "import pandas as pd\n",
    "import zipfile\n",
    "import os\n",
    "import io\n",
    "from arcgis import features, GeoAccessor, GeoSeriesAccessor\n",
    "from arcgis.gis import GIS\n",
    "from arcgis.features.analysis import join_features\n",
    "from arcgis.features import FeatureLayerCollection\n",
    "from arcgis.geometry import SpatialReference , Geometry"
   ]
  },
  {
   "cell_type": "code",
   "execution_count": 20,
   "metadata": {},
   "outputs": [],
   "source": [
    "path=r'C:\\Mac\\Home\\Documents\\ArcGIS\\Projects\\Lab1_Notebooks\\FGDB.gdb'\n",
    "#NDAWN API Call\n",
    "request=requests.get('https://ndawn.ndsu.nodak.edu/table.csv?station=78&variable=ydmxt&ttype=yearly')\n",
    "response=request.content\n",
    "request=pd.read_csv(io.StringIO(response.decode('utf-8')), skiprows=[0,1,2,4])\n",
    "sdf = GeoAccessor.from_xy(request, 'Longitude', 'Latitude')"
   ]
  },
  {
   "cell_type": "code",
   "execution_count": 24,
   "metadata": {},
   "outputs": [
    {
     "data": {
      "text/plain": [
       "'C:\\\\Mac\\\\Home\\\\Documents\\\\ArcGIS\\\\Projects\\\\Lab1_Notebooks\\\\FGDB.gdb\\\\ndawn_fc'"
      ]
     },
     "execution_count": 24,
     "metadata": {},
     "output_type": "execute_result"
    }
   ],
   "source": [
    "out_name = \"ndawn_fc\"\n",
    "sdf.spatial.to_featureclass(location=f\"{path}/{out_name}\")"
   ]
  },
  {
   "cell_type": "code",
   "execution_count": null,
   "metadata": {},
   "outputs": [],
   "source": []
  }
 ],
 "metadata": {
  "kernelspec": {
   "display_name": "ArcGISPro",
   "language": "Python",
   "name": "python3"
  },
  "language_info": {
   "file_extension": ".py",
   "name": "python",
   "version": "3"
  }
 },
 "nbformat": 4,
 "nbformat_minor": 2
}
