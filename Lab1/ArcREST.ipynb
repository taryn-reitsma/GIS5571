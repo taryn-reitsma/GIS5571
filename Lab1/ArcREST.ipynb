{
 "cells": [
  {
   "cell_type": "code",
   "execution_count": 54,
   "metadata": {},
   "outputs": [],
   "source": [
    "#Connect to GIS\n",
    "from arcgis.gis import GIS\n",
    "gis = GIS(\"home\")"
   ]
  },
  {
   "cell_type": "code",
   "execution_count": 55,
   "metadata": {},
   "outputs": [],
   "source": [
    "#Packages\n",
    "import requests\n",
    "import pandas as pd\n",
    "import zipfile\n",
    "import os\n",
    "import io\n",
    "from arcgis import features, GeoAccessor, GeoSeriesAccessor\n",
    "from arcgis.gis import GIS\n",
    "from arcgis.features.analysis import join_features\n",
    "from arcgis.features import FeatureLayerCollection\n",
    "from arcgis.geometry import SpatialReference , Geometry"
   ]
  },
  {
   "cell_type": "code",
   "execution_count": 58,
   "metadata": {},
   "outputs": [],
   "source": [
    "arcrequest = requests.get('https://webgis.dot.state.mn.us/65agsf1/rest/services/sdw_govnt/COUNTY/FeatureServer/0/query?where=1%3D1&outSR=4326&f=geojson')\n",
    "arcresponse = arcrequest.json()\n",
    "arcdf=pd.json_normalize(arcresponse['features'])"
   ]
  },
  {
   "cell_type": "code",
   "execution_count": 69,
   "metadata": {},
   "outputs": [],
   "source": [
    "#Fix geometry and sr\n",
    "arcdf['SHAPE'] = arcdf['geometry.coordinates'].apply(lambda coords: Geometry({\n",
    "    \"rings\": coords,\n",
    "    \"spatialReference\": {\"wkid\": 4326}\n",
    "}))"
   ]
  },
  {
   "cell_type": "code",
   "execution_count": 78,
   "metadata": {
    "scrolled": true
   },
   "outputs": [],
   "source": [
    "sedf = pd.DataFrame(arcdf)\n",
    "sedf.spatial.set_geometry('SHAPE')\n",
    "sedf = sedf.drop(columns=['geometry.coordinates'])"
   ]
  },
  {
   "cell_type": "code",
   "execution_count": null,
   "metadata": {},
   "outputs": [],
   "source": []
  }
 ],
 "metadata": {
  "kernelspec": {
   "display_name": "ArcGISPro",
   "language": "Python",
   "name": "python3"
  },
  "language_info": {
   "file_extension": ".py",
   "name": "python",
   "version": "3"
  }
 },
 "nbformat": 4,
 "nbformat_minor": 2
}
