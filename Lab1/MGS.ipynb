{
 "cells": [
  {
   "cell_type": "code",
   "execution_count": 25,
   "metadata": {},
   "outputs": [],
   "source": [
    "#Connect to GIS\n",
    "from arcgis.gis import GIS\n",
    "gis = GIS(\"home\")"
   ]
  },
  {
   "cell_type": "code",
   "execution_count": 26,
   "metadata": {},
   "outputs": [],
   "source": [
    "#Packages\n",
    "import requests\n",
    "import pandas as pd\n",
    "import zipfile\n",
    "import os\n",
    "import io\n",
    "from arcgis import features, GeoAccessor, GeoSeriesAccessor\n",
    "from arcgis.gis import GIS\n",
    "from arcgis.features.analysis import join_features\n",
    "from arcgis.features import FeatureLayerCollection\n",
    "from arcgis.geometry import SpatialReference , Geometry"
   ]
  },
  {
   "cell_type": "code",
   "execution_count": 46,
   "metadata": {},
   "outputs": [],
   "source": [
    "path=r'C:\\Mac\\Home\\Documents\\ArcGIS\\Projects\\Lab1_Notebooks\\FGDB.gdb'\n",
    "#MGS API \n",
    "request = requests.get('https://gisdata.mn.gov/api/3/action/package_show?id=struc-roadway-weather-sites')\n",
    "response = request.json()\n",
    "df=pd.json_normalize(response)"
   ]
  },
  {
   "cell_type": "code",
   "execution_count": 47,
   "metadata": {},
   "outputs": [],
   "source": [
    "directory= 'C:\\Mac\\Home\\Documents\\ArcGIS\\Projects\\Lab1_Notebooks'\n",
    "zip_url= response['result']['resources'][2]['url']\n",
    "zip_response= requests.get(zip_url)\n",
    "zip_path ='C:\\Mac\\Home\\Documents\\ArcGIS\\Projects\\Lab1_Notebooks\\roadway_weather_sites.zip'\n",
    "\n",
    "\n",
    "with open(zip_path, 'wb') as file:\n",
    "    file.write(zip_response.content)\n",
    "    \n",
    "with zipfile.ZipFile(zip_path, 'r') as zip_ref:\n",
    "    zip_ref.extractall(directory)"
   ]
  },
  {
   "cell_type": "code",
   "execution_count": null,
   "metadata": {},
   "outputs": [],
   "source": []
  }
 ],
 "metadata": {
  "kernelspec": {
   "display_name": "ArcGISPro",
   "language": "Python",
   "name": "python3"
  },
  "language_info": {
   "file_extension": ".py",
   "name": "python",
   "version": "3"
  }
 },
 "nbformat": 4,
 "nbformat_minor": 2
}
